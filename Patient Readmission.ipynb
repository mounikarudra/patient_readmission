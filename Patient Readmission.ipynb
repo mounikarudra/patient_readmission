{
 "cells": [
  {
   "cell_type": "markdown",
   "metadata": {},
   "source": [
    "## Predicting Patient Readmission to the Hospital\n",
    "\n",
    "Hospital readmission is very expensive, and it is an emerging indicator of quality of health care. On average, Medicare spends double the amount for an episode with one readmission. Moreover, diabetes is a chronic disease affecting people of all ages and is prevalent in a large amount of people all over the world. Thus, examining the historical patterns of diabetic’s care is\n",
    "very essential which might lead to improvements in patient safety and prevent future readmissions. This not only improves the quality of care but also reduces the medical expenses on readmission. There are a few studies on readmission rates among individuals with diabetes. Different tools and models were built to predict the risk of all-cause readmission within 30 days\n",
    "among hospitalized patients with diabetes.\n",
    "\n",
    "#### Abstract:\n",
    "In order to provide a valid assessment and to find future directions which might lead to improvements in patient safety, we must determine all the contributing factors for predicting readmission of diabetes patients. We will implement a ML Model to see whether a patient will readmit within 30 Days.\n",
    "\n",
    "#### Attribute Information:\n",
    "* Patient ID: Unique identifier of a patient\n",
    "* Race Values: Caucasian, Asian, African American, Hispanic, and other\n",
    "* Gender Values: male, female, and unknown/invalid\n",
    "* Age Grouped in 10-year intervals: 0, 10), 10, 20), …, 90, 100)\n",
    "* Weight: Weight in pounds\n",
    "* Admission type: Integer identifier corresponding to 9 distinct values, for example, emergency, urgent, elective, newborn, and not available\n",
    "* Admission source: Integer identifier corresponding to 21 distinct values, for example, physician referral, emergency room, and transfer from a hospital\n",
    "* Discharge :Date: The date on which a patient was discharged\n",
    "* Payer code Integer identifier corresponding to 23 distinct values, for example, Blue Cross/Blue Shield, Medicare, and self-pay Medical\n",
    "* Medical specialty: Integer identifier of a specialty of the admitting physician, corresponding to 84 distinct values, for example, cardiology, internal medicine, family/general practice, and surgeon\n",
    "* Number of lab procedures: Number of lab tests performed during the encounter\n",
    "* Number of procedures: Numeric Number of procedures (other than lab tests) performed during the encounter\n",
    "* Number of medications: Number of distinct generic names administered during the encounter\n",
    "* Number of diagnoses: Number of diagnoses entered to the system 0%\n",
    "* Glucose serum test result: Indicates the range of the result or if the test was not taken. Values: “>200,” “>300,” “normal,” and “none” if not measured\n",
    "* A1c test result: Indicates the range of the result or if the test was not taken. Values: “>8” if the result was greater than 8%, “>7” if the result was greater than 7% but less than 8%, “normal” if the result was less than 7%, and “none” if not measured.\n",
    "* Change of medications: Indicates if there was a change in diabetic medications (either dosage or generic name). Values: “change” and “no change”\n",
    "* Diabetes medications: Indicates if there was any diabetic medication prescribed. Values: “yes” and “no”\n",
    "* 24 features for medications For the generic names: metformin, repaglinide, nateglinide, chlorpropamide, glimepiride, acetohexamide, glipizide, glyburide, tolbutamide, pioglitazone, rosiglitazone, acarbose, miglitol, troglitazone, tolazamide, examide, sitagliptin, insulin, glyburide-metformin, glipizide-metformin, glimepiride- pioglitazone, metformin-rosiglitazone, and metformin- pioglitazone, the feature indicates whether the drug was prescribed or there was a change in the dosage. Values: “up” if the dosage was increased during the encounter, “down” if the dosage was decreased, “steady” if the dosage did not change, and “no” if the drug was not prescribed\n",
    "* Target: Indicates if a patient is readmitted or not. We need to predict this value"
   ]
  },
  {
   "cell_type": "code",
   "execution_count": 1,
   "metadata": {
    "scrolled": true
   },
   "outputs": [],
   "source": [
    "import pandas as pd\n",
    "import re\n",
    "import datetime\n",
    "import seaborn as sns\n",
    "import numpy as np\n",
    "import matplotlib.pyplot as plt\n",
    "from sklearn.linear_model import LogisticRegression\n",
    "from sklearn.model_selection import train_test_split\n",
    "from sklearn.metrics import accuracy_score, precision_score, recall_score, f1_score\n",
    "from imblearn.over_sampling import SMOTE\n",
    "from collections import Counter\n",
    "from sklearn.preprocessing import MinMaxScaler\n",
    "from sklearn.neighbors import KNeighborsClassifier\n",
    "from sklearn.metrics import confusion_matrix\n",
    "pd.set_option('display.max_columns', None)"
   ]
  },
  {
   "cell_type": "code",
   "execution_count": 2,
   "metadata": {},
   "outputs": [],
   "source": [
    "patient_data = pd.read_csv(\"D:\\\\Data Science\\\\patient readmission\\\\Patientdata.csv\",sep=\",\")\n",
    "diagnosis_data = pd.read_csv(\"D:\\\\Data Science\\\\patient readmission\\\\Diagnosisdata.csv\",sep=\",\")\n",
    "hospital_data = pd.read_csv(\"D:\\\\Data Science\\\\patient readmission\\\\Hospitaldata.csv\",sep=\",\")"
   ]
  },
  {
   "cell_type": "code",
   "execution_count": 3,
   "metadata": {},
   "outputs": [
    {
     "name": "stdout",
     "output_type": "stream",
     "text": [
      "Shape of patient_data -  (31513, 7) \n",
      " Shape of diagnosis_data -  (31513, 29) \n",
      " Shape of hospital_data -  (31513, 9) \n",
      "\n"
     ]
    }
   ],
   "source": [
    "print(\"Shape of patient_data - \", patient_data.shape,\"\\n\",\n",
    "     \"Shape of diagnosis_data - \", diagnosis_data.shape,\"\\n\",\n",
    "     \"Shape of hospital_data - \", hospital_data.shape,\"\\n\")"
   ]
  },
  {
   "cell_type": "markdown",
   "metadata": {},
   "source": [
    "#### Splitting the train and test data"
   ]
  },
  {
   "cell_type": "code",
   "execution_count": 4,
   "metadata": {},
   "outputs": [],
   "source": [
    "is_train = patient_data[\"istrain\"] == 1\n",
    "patient_data_train = patient_data[is_train]\n",
    "patient_data_test = patient_data[~is_train]\n",
    "\n",
    "is_train = diagnosis_data[\"istrain\"] == 1\n",
    "diagnosis_data_train = diagnosis_data[is_train]\n",
    "diagnosis_data_test = diagnosis_data[~is_train]\n",
    "\n",
    "is_train = hospital_data[\"istrain\"] == 1\n",
    "hospital_data_train = hospital_data[is_train]\n",
    "hospital_data_test = hospital_data[~is_train]"
   ]
  },
  {
   "cell_type": "code",
   "execution_count": 5,
   "metadata": {
    "scrolled": false
   },
   "outputs": [
    {
     "data": {
      "text/plain": [
       "(7257, 7)"
      ]
     },
     "execution_count": 5,
     "metadata": {},
     "output_type": "execute_result"
    }
   ],
   "source": [
    "patient_data_test.shape"
   ]
  },
  {
   "cell_type": "code",
   "execution_count": 6,
   "metadata": {},
   "outputs": [],
   "source": [
    "patient_data_join = patient_data_test.merge(patient_data_train,on=[\"patientID\"])"
   ]
  },
  {
   "cell_type": "code",
   "execution_count": 7,
   "metadata": {},
   "outputs": [
    {
     "name": "stdout",
     "output_type": "stream",
     "text": [
      "4\n"
     ]
    }
   ],
   "source": [
    "a = [1,2,3]\n",
    "b = [1,2,3,4]\n",
    "[i for i in b if i not in a]\n",
    "for i in b:\n",
    "    if i not in a:\n",
    "        print(i)"
   ]
  },
  {
   "cell_type": "code",
   "execution_count": 8,
   "metadata": {
    "scrolled": true
   },
   "outputs": [
    {
     "data": {
      "text/html": [
       "<div>\n",
       "<style scoped>\n",
       "    .dataframe tbody tr th:only-of-type {\n",
       "        vertical-align: middle;\n",
       "    }\n",
       "\n",
       "    .dataframe tbody tr th {\n",
       "        vertical-align: top;\n",
       "    }\n",
       "\n",
       "    .dataframe thead th {\n",
       "        text-align: right;\n",
       "    }\n",
       "</style>\n",
       "<table border=\"1\" class=\"dataframe\">\n",
       "  <thead>\n",
       "    <tr style=\"text-align: right;\">\n",
       "      <th></th>\n",
       "      <th>patientID</th>\n",
       "      <th>race</th>\n",
       "      <th>gender</th>\n",
       "      <th>age</th>\n",
       "      <th>weight</th>\n",
       "      <th>Target</th>\n",
       "      <th>istrain</th>\n",
       "    </tr>\n",
       "  </thead>\n",
       "  <tbody>\n",
       "  </tbody>\n",
       "</table>\n",
       "</div>"
      ],
      "text/plain": [
       "Empty DataFrame\n",
       "Columns: [patientID, race, gender, age, weight, Target, istrain]\n",
       "Index: []"
      ]
     },
     "execution_count": 8,
     "metadata": {},
     "output_type": "execute_result"
    }
   ],
   "source": [
    "patient_data_test[~patient_data_test.patientID.isin(list(patient_data_train.patientID))]"
   ]
  },
  {
   "cell_type": "code",
   "execution_count": 9,
   "metadata": {},
   "outputs": [
    {
     "data": {
      "text/plain": [
       "(24256, 7)"
      ]
     },
     "execution_count": 9,
     "metadata": {},
     "output_type": "execute_result"
    }
   ],
   "source": [
    "patient_data_train.shape"
   ]
  },
  {
   "cell_type": "code",
   "execution_count": 10,
   "metadata": {},
   "outputs": [],
   "source": [
    "# Drop istrain column as it has a constant value\n",
    "patient_data_train = patient_data_train.drop([\"istrain\"],axis=1)\n",
    "patient_data_test = patient_data_test.drop([\"istrain\"],axis=1)\n",
    "diagnosis_data_train = diagnosis_data_train.drop([\"istrain\"],axis=1)\n",
    "diagnosis_data_test = diagnosis_data_test.drop([\"istrain\"],axis=1)\n",
    "hospital_data_train = hospital_data_train.drop([\"istrain\"],axis=1)\n",
    "hospital_data_test = hospital_data_test.drop([\"istrain\"],axis=1)"
   ]
  },
  {
   "cell_type": "markdown",
   "metadata": {},
   "source": [
    "#### EDA"
   ]
  },
  {
   "cell_type": "code",
   "execution_count": 11,
   "metadata": {},
   "outputs": [
    {
     "name": "stdout",
     "output_type": "stream",
     "text": [
      "Shape of patient_data_train -  (24256, 6) \n",
      " Shape of diagnosis_data_train -  (24256, 28) \n",
      " Shape of hospital_data_train -  (24256, 8) \n",
      "\n"
     ]
    }
   ],
   "source": [
    "print(\"Shape of patient_data_train - \", patient_data_train.shape,\"\\n\",\n",
    "     \"Shape of diagnosis_data_train - \", diagnosis_data_train.shape,\"\\n\",\n",
    "     \"Shape of hospital_data_train - \", hospital_data_train.shape,\"\\n\")"
   ]
  },
  {
   "cell_type": "code",
   "execution_count": 12,
   "metadata": {},
   "outputs": [
    {
     "data": {
      "text/html": [
       "<div>\n",
       "<style scoped>\n",
       "    .dataframe tbody tr th:only-of-type {\n",
       "        vertical-align: middle;\n",
       "    }\n",
       "\n",
       "    .dataframe tbody tr th {\n",
       "        vertical-align: top;\n",
       "    }\n",
       "\n",
       "    .dataframe thead th {\n",
       "        text-align: right;\n",
       "    }\n",
       "</style>\n",
       "<table border=\"1\" class=\"dataframe\">\n",
       "  <thead>\n",
       "    <tr style=\"text-align: right;\">\n",
       "      <th></th>\n",
       "      <th>patientID</th>\n",
       "      <th>race</th>\n",
       "      <th>gender</th>\n",
       "      <th>age</th>\n",
       "      <th>weight</th>\n",
       "      <th>Target</th>\n",
       "    </tr>\n",
       "  </thead>\n",
       "  <tbody>\n",
       "    <tr>\n",
       "      <th>0</th>\n",
       "      <td>PT456611</td>\n",
       "      <td>type3</td>\n",
       "      <td>Female</td>\n",
       "      <td>[90-100)</td>\n",
       "      <td>NaN</td>\n",
       "      <td>No</td>\n",
       "    </tr>\n",
       "    <tr>\n",
       "      <th>1</th>\n",
       "      <td>PT956824</td>\n",
       "      <td>type1</td>\n",
       "      <td>Male</td>\n",
       "      <td>[50-60)</td>\n",
       "      <td>NaN</td>\n",
       "      <td>Yes</td>\n",
       "    </tr>\n",
       "    <tr>\n",
       "      <th>2</th>\n",
       "      <td>PT453330</td>\n",
       "      <td>type3</td>\n",
       "      <td>Female</td>\n",
       "      <td>[80-90)</td>\n",
       "      <td>NaN</td>\n",
       "      <td>No</td>\n",
       "    </tr>\n",
       "    <tr>\n",
       "      <th>3</th>\n",
       "      <td>PT677563</td>\n",
       "      <td>type3</td>\n",
       "      <td>Female</td>\n",
       "      <td>[50-60)</td>\n",
       "      <td>NaN</td>\n",
       "      <td>No</td>\n",
       "    </tr>\n",
       "    <tr>\n",
       "      <th>4</th>\n",
       "      <td>PT102924</td>\n",
       "      <td>type3</td>\n",
       "      <td>Male</td>\n",
       "      <td>[60-70)</td>\n",
       "      <td>NaN</td>\n",
       "      <td>Yes</td>\n",
       "    </tr>\n",
       "  </tbody>\n",
       "</table>\n",
       "</div>"
      ],
      "text/plain": [
       "  patientID   race  gender       age weight Target\n",
       "0  PT456611  type3  Female  [90-100)    NaN     No\n",
       "1  PT956824  type1    Male   [50-60)    NaN    Yes\n",
       "2  PT453330  type3  Female   [80-90)    NaN     No\n",
       "3  PT677563  type3  Female   [50-60)    NaN     No\n",
       "4  PT102924  type3    Male   [60-70)    NaN    Yes"
      ]
     },
     "execution_count": 12,
     "metadata": {},
     "output_type": "execute_result"
    }
   ],
   "source": [
    "patient_data_train.head()"
   ]
  },
  {
   "cell_type": "code",
   "execution_count": 13,
   "metadata": {},
   "outputs": [
    {
     "data": {
      "text/html": [
       "<div>\n",
       "<style scoped>\n",
       "    .dataframe tbody tr th:only-of-type {\n",
       "        vertical-align: middle;\n",
       "    }\n",
       "\n",
       "    .dataframe tbody tr th {\n",
       "        vertical-align: top;\n",
       "    }\n",
       "\n",
       "    .dataframe thead th {\n",
       "        text-align: right;\n",
       "    }\n",
       "</style>\n",
       "<table border=\"1\" class=\"dataframe\">\n",
       "  <thead>\n",
       "    <tr style=\"text-align: right;\">\n",
       "      <th></th>\n",
       "      <th>patientID</th>\n",
       "      <th>num_procedures</th>\n",
       "      <th>num_medications</th>\n",
       "      <th>num_diagnoses</th>\n",
       "      <th>max_glu_serum</th>\n",
       "      <th>A1Cresult</th>\n",
       "      <th>metformin</th>\n",
       "      <th>repaglinide</th>\n",
       "      <th>nateglinide</th>\n",
       "      <th>chlorpropamide</th>\n",
       "      <th>glimepiride</th>\n",
       "      <th>acetohexamide</th>\n",
       "      <th>glipizide</th>\n",
       "      <th>glyburide</th>\n",
       "      <th>tolbutamide</th>\n",
       "      <th>pioglitazone</th>\n",
       "      <th>rosiglitazone</th>\n",
       "      <th>acarbose</th>\n",
       "      <th>miglitol</th>\n",
       "      <th>troglitazone</th>\n",
       "      <th>tolazamide</th>\n",
       "      <th>insulin</th>\n",
       "      <th>glyburide.metformin</th>\n",
       "      <th>glipizide.metformin</th>\n",
       "      <th>metformin.rosiglitazone</th>\n",
       "      <th>metformin.pioglitazone</th>\n",
       "      <th>change</th>\n",
       "      <th>diabetesMed</th>\n",
       "    </tr>\n",
       "  </thead>\n",
       "  <tbody>\n",
       "    <tr>\n",
       "      <th>0</th>\n",
       "      <td>PT456611</td>\n",
       "      <td>0</td>\n",
       "      <td>11</td>\n",
       "      <td>9</td>\n",
       "      <td>None</td>\n",
       "      <td>None</td>\n",
       "      <td>No</td>\n",
       "      <td>No</td>\n",
       "      <td>No</td>\n",
       "      <td>No</td>\n",
       "      <td>No</td>\n",
       "      <td>No</td>\n",
       "      <td>No</td>\n",
       "      <td>No</td>\n",
       "      <td>No</td>\n",
       "      <td>No</td>\n",
       "      <td>Steady</td>\n",
       "      <td>No</td>\n",
       "      <td>No</td>\n",
       "      <td>No</td>\n",
       "      <td>No</td>\n",
       "      <td>Steady</td>\n",
       "      <td>No</td>\n",
       "      <td>No</td>\n",
       "      <td>No</td>\n",
       "      <td>No</td>\n",
       "      <td>Ch</td>\n",
       "      <td>Yes</td>\n",
       "    </tr>\n",
       "    <tr>\n",
       "      <th>1</th>\n",
       "      <td>PT956824</td>\n",
       "      <td>1</td>\n",
       "      <td>6</td>\n",
       "      <td>6</td>\n",
       "      <td>None</td>\n",
       "      <td>None</td>\n",
       "      <td>No</td>\n",
       "      <td>No</td>\n",
       "      <td>No</td>\n",
       "      <td>No</td>\n",
       "      <td>No</td>\n",
       "      <td>No</td>\n",
       "      <td>No</td>\n",
       "      <td>No</td>\n",
       "      <td>No</td>\n",
       "      <td>No</td>\n",
       "      <td>No</td>\n",
       "      <td>No</td>\n",
       "      <td>No</td>\n",
       "      <td>No</td>\n",
       "      <td>No</td>\n",
       "      <td>No</td>\n",
       "      <td>No</td>\n",
       "      <td>No</td>\n",
       "      <td>No</td>\n",
       "      <td>No</td>\n",
       "      <td>No</td>\n",
       "      <td>No</td>\n",
       "    </tr>\n",
       "    <tr>\n",
       "      <th>2</th>\n",
       "      <td>PT453330</td>\n",
       "      <td>2</td>\n",
       "      <td>27</td>\n",
       "      <td>9</td>\n",
       "      <td>None</td>\n",
       "      <td>None</td>\n",
       "      <td>No</td>\n",
       "      <td>No</td>\n",
       "      <td>No</td>\n",
       "      <td>No</td>\n",
       "      <td>No</td>\n",
       "      <td>No</td>\n",
       "      <td>No</td>\n",
       "      <td>No</td>\n",
       "      <td>No</td>\n",
       "      <td>No</td>\n",
       "      <td>No</td>\n",
       "      <td>No</td>\n",
       "      <td>No</td>\n",
       "      <td>No</td>\n",
       "      <td>No</td>\n",
       "      <td>No</td>\n",
       "      <td>No</td>\n",
       "      <td>No</td>\n",
       "      <td>No</td>\n",
       "      <td>No</td>\n",
       "      <td>No</td>\n",
       "      <td>No</td>\n",
       "    </tr>\n",
       "    <tr>\n",
       "      <th>3</th>\n",
       "      <td>PT677563</td>\n",
       "      <td>3</td>\n",
       "      <td>10</td>\n",
       "      <td>5</td>\n",
       "      <td>None</td>\n",
       "      <td>None</td>\n",
       "      <td>No</td>\n",
       "      <td>No</td>\n",
       "      <td>No</td>\n",
       "      <td>No</td>\n",
       "      <td>No</td>\n",
       "      <td>No</td>\n",
       "      <td>No</td>\n",
       "      <td>No</td>\n",
       "      <td>No</td>\n",
       "      <td>No</td>\n",
       "      <td>No</td>\n",
       "      <td>No</td>\n",
       "      <td>No</td>\n",
       "      <td>No</td>\n",
       "      <td>No</td>\n",
       "      <td>Steady</td>\n",
       "      <td>No</td>\n",
       "      <td>No</td>\n",
       "      <td>No</td>\n",
       "      <td>No</td>\n",
       "      <td>No</td>\n",
       "      <td>Yes</td>\n",
       "    </tr>\n",
       "    <tr>\n",
       "      <th>4</th>\n",
       "      <td>PT102924</td>\n",
       "      <td>6</td>\n",
       "      <td>12</td>\n",
       "      <td>9</td>\n",
       "      <td>None</td>\n",
       "      <td>None</td>\n",
       "      <td>No</td>\n",
       "      <td>No</td>\n",
       "      <td>No</td>\n",
       "      <td>No</td>\n",
       "      <td>No</td>\n",
       "      <td>No</td>\n",
       "      <td>No</td>\n",
       "      <td>No</td>\n",
       "      <td>No</td>\n",
       "      <td>No</td>\n",
       "      <td>No</td>\n",
       "      <td>No</td>\n",
       "      <td>No</td>\n",
       "      <td>No</td>\n",
       "      <td>No</td>\n",
       "      <td>No</td>\n",
       "      <td>No</td>\n",
       "      <td>No</td>\n",
       "      <td>No</td>\n",
       "      <td>No</td>\n",
       "      <td>No</td>\n",
       "      <td>No</td>\n",
       "    </tr>\n",
       "  </tbody>\n",
       "</table>\n",
       "</div>"
      ],
      "text/plain": [
       "  patientID  num_procedures  num_medications  num_diagnoses max_glu_serum  \\\n",
       "0  PT456611               0               11              9          None   \n",
       "1  PT956824               1                6              6          None   \n",
       "2  PT453330               2               27              9          None   \n",
       "3  PT677563               3               10              5          None   \n",
       "4  PT102924               6               12              9          None   \n",
       "\n",
       "  A1Cresult metformin repaglinide nateglinide chlorpropamide glimepiride  \\\n",
       "0      None        No          No          No             No          No   \n",
       "1      None        No          No          No             No          No   \n",
       "2      None        No          No          No             No          No   \n",
       "3      None        No          No          No             No          No   \n",
       "4      None        No          No          No             No          No   \n",
       "\n",
       "  acetohexamide glipizide glyburide tolbutamide pioglitazone rosiglitazone  \\\n",
       "0            No        No        No          No           No        Steady   \n",
       "1            No        No        No          No           No            No   \n",
       "2            No        No        No          No           No            No   \n",
       "3            No        No        No          No           No            No   \n",
       "4            No        No        No          No           No            No   \n",
       "\n",
       "  acarbose miglitol troglitazone tolazamide insulin glyburide.metformin  \\\n",
       "0       No       No           No         No  Steady                  No   \n",
       "1       No       No           No         No      No                  No   \n",
       "2       No       No           No         No      No                  No   \n",
       "3       No       No           No         No  Steady                  No   \n",
       "4       No       No           No         No      No                  No   \n",
       "\n",
       "  glipizide.metformin metformin.rosiglitazone metformin.pioglitazone change  \\\n",
       "0                  No                      No                     No     Ch   \n",
       "1                  No                      No                     No     No   \n",
       "2                  No                      No                     No     No   \n",
       "3                  No                      No                     No     No   \n",
       "4                  No                      No                     No     No   \n",
       "\n",
       "  diabetesMed  \n",
       "0         Yes  \n",
       "1          No  \n",
       "2          No  \n",
       "3         Yes  \n",
       "4          No  "
      ]
     },
     "execution_count": 13,
     "metadata": {},
     "output_type": "execute_result"
    }
   ],
   "source": [
    "diagnosis_data_train.head()"
   ]
  },
  {
   "cell_type": "code",
   "execution_count": 14,
   "metadata": {},
   "outputs": [
    {
     "data": {
      "text/html": [
       "<div>\n",
       "<style scoped>\n",
       "    .dataframe tbody tr th:only-of-type {\n",
       "        vertical-align: middle;\n",
       "    }\n",
       "\n",
       "    .dataframe tbody tr th {\n",
       "        vertical-align: top;\n",
       "    }\n",
       "\n",
       "    .dataframe thead th {\n",
       "        text-align: right;\n",
       "    }\n",
       "</style>\n",
       "<table border=\"1\" class=\"dataframe\">\n",
       "  <thead>\n",
       "    <tr style=\"text-align: right;\">\n",
       "      <th></th>\n",
       "      <th>AdmissionID</th>\n",
       "      <th>patientID</th>\n",
       "      <th>Admission_date</th>\n",
       "      <th>Discharge_date</th>\n",
       "      <th>admission_type_id</th>\n",
       "      <th>admission_source_id</th>\n",
       "      <th>payer_code</th>\n",
       "      <th>medical_specialty</th>\n",
       "    </tr>\n",
       "  </thead>\n",
       "  <tbody>\n",
       "    <tr>\n",
       "      <th>0</th>\n",
       "      <td>AD988251</td>\n",
       "      <td>PT456611</td>\n",
       "      <td>2015-05-04</td>\n",
       "      <td>2015-05-07</td>\n",
       "      <td>1</td>\n",
       "      <td>1</td>\n",
       "      <td>PC8</td>\n",
       "      <td>NaN</td>\n",
       "    </tr>\n",
       "    <tr>\n",
       "      <th>1</th>\n",
       "      <td>AD725487</td>\n",
       "      <td>PT956824</td>\n",
       "      <td>2014-02-20</td>\n",
       "      <td>2014-02-23</td>\n",
       "      <td>1</td>\n",
       "      <td>7</td>\n",
       "      <td>PC1</td>\n",
       "      <td>Oncology</td>\n",
       "    </tr>\n",
       "    <tr>\n",
       "      <th>2</th>\n",
       "      <td>AD492141</td>\n",
       "      <td>PT453330</td>\n",
       "      <td>2015-06-01</td>\n",
       "      <td>2015-06-04</td>\n",
       "      <td>1</td>\n",
       "      <td>7</td>\n",
       "      <td>PC8</td>\n",
       "      <td>NaN</td>\n",
       "    </tr>\n",
       "    <tr>\n",
       "      <th>3</th>\n",
       "      <td>AD561393</td>\n",
       "      <td>PT677563</td>\n",
       "      <td>2015-12-18</td>\n",
       "      <td>2015-12-20</td>\n",
       "      <td>2</td>\n",
       "      <td>1</td>\n",
       "      <td>NaN</td>\n",
       "      <td>Cardiology</td>\n",
       "    </tr>\n",
       "    <tr>\n",
       "      <th>4</th>\n",
       "      <td>AD619257</td>\n",
       "      <td>PT102924</td>\n",
       "      <td>2015-08-19</td>\n",
       "      <td>2015-08-20</td>\n",
       "      <td>3</td>\n",
       "      <td>1</td>\n",
       "      <td>NaN</td>\n",
       "      <td>NaN</td>\n",
       "    </tr>\n",
       "  </tbody>\n",
       "</table>\n",
       "</div>"
      ],
      "text/plain": [
       "  AdmissionID patientID Admission_date Discharge_date  admission_type_id  \\\n",
       "0    AD988251  PT456611     2015-05-04     2015-05-07                  1   \n",
       "1    AD725487  PT956824     2014-02-20     2014-02-23                  1   \n",
       "2    AD492141  PT453330     2015-06-01     2015-06-04                  1   \n",
       "3    AD561393  PT677563     2015-12-18     2015-12-20                  2   \n",
       "4    AD619257  PT102924     2015-08-19     2015-08-20                  3   \n",
       "\n",
       "   admission_source_id payer_code medical_specialty  \n",
       "0                    1        PC8               NaN  \n",
       "1                    7        PC1          Oncology  \n",
       "2                    7        PC8               NaN  \n",
       "3                    1        NaN        Cardiology  \n",
       "4                    1        NaN               NaN  "
      ]
     },
     "execution_count": 14,
     "metadata": {},
     "output_type": "execute_result"
    }
   ],
   "source": [
    "hospital_data_train.head()"
   ]
  },
  {
   "cell_type": "code",
   "execution_count": 15,
   "metadata": {},
   "outputs": [
    {
     "name": "stdout",
     "output_type": "stream",
     "text": [
      "<class 'pandas.core.frame.DataFrame'>\n",
      "Int64Index: 24256 entries, 0 to 24255\n",
      "Data columns (total 6 columns):\n",
      "patientID    24256 non-null object\n",
      "race         24256 non-null object\n",
      "gender       24256 non-null object\n",
      "age          24256 non-null object\n",
      "weight       719 non-null object\n",
      "Target       24256 non-null object\n",
      "dtypes: object(6)\n",
      "memory usage: 1.3+ MB\n"
     ]
    }
   ],
   "source": [
    "patient_data_train.info()"
   ]
  },
  {
   "cell_type": "code",
   "execution_count": 16,
   "metadata": {},
   "outputs": [
    {
     "name": "stdout",
     "output_type": "stream",
     "text": [
      "<class 'pandas.core.frame.DataFrame'>\n",
      "Int64Index: 24256 entries, 0 to 24255\n",
      "Data columns (total 28 columns):\n",
      "patientID                  24256 non-null object\n",
      "num_procedures             24256 non-null int64\n",
      "num_medications            24256 non-null int64\n",
      "num_diagnoses              24256 non-null int64\n",
      "max_glu_serum              24256 non-null object\n",
      "A1Cresult                  24256 non-null object\n",
      "metformin                  24256 non-null object\n",
      "repaglinide                24256 non-null object\n",
      "nateglinide                24256 non-null object\n",
      "chlorpropamide             24256 non-null object\n",
      "glimepiride                24256 non-null object\n",
      "acetohexamide              24256 non-null object\n",
      "glipizide                  24256 non-null object\n",
      "glyburide                  24256 non-null object\n",
      "tolbutamide                24256 non-null object\n",
      "pioglitazone               24256 non-null object\n",
      "rosiglitazone              24256 non-null object\n",
      "acarbose                   24256 non-null object\n",
      "miglitol                   24256 non-null object\n",
      "troglitazone               24256 non-null object\n",
      "tolazamide                 24256 non-null object\n",
      "insulin                    24256 non-null object\n",
      "glyburide.metformin        24256 non-null object\n",
      "glipizide.metformin        24256 non-null object\n",
      "metformin.rosiglitazone    24256 non-null object\n",
      "metformin.pioglitazone     24256 non-null object\n",
      "change                     24256 non-null object\n",
      "diabetesMed                24256 non-null object\n",
      "dtypes: int64(3), object(25)\n",
      "memory usage: 5.4+ MB\n"
     ]
    }
   ],
   "source": [
    "diagnosis_data_train.info()"
   ]
  },
  {
   "cell_type": "code",
   "execution_count": 17,
   "metadata": {},
   "outputs": [
    {
     "name": "stdout",
     "output_type": "stream",
     "text": [
      "<class 'pandas.core.frame.DataFrame'>\n",
      "Int64Index: 24256 entries, 0 to 24255\n",
      "Data columns (total 8 columns):\n",
      "AdmissionID            24256 non-null object\n",
      "patientID              24256 non-null object\n",
      "Admission_date         24256 non-null object\n",
      "Discharge_date         24256 non-null object\n",
      "admission_type_id      24256 non-null int64\n",
      "admission_source_id    24256 non-null int64\n",
      "payer_code             14045 non-null object\n",
      "medical_specialty      12779 non-null object\n",
      "dtypes: int64(2), object(6)\n",
      "memory usage: 1.7+ MB\n"
     ]
    }
   ],
   "source": [
    "hospital_data_train.info()"
   ]
  },
  {
   "cell_type": "code",
   "execution_count": 18,
   "metadata": {},
   "outputs": [],
   "source": [
    "patient_hospital_data_train = diagnosis_data_train.merge(hospital_data_train, on=[\"patientID\"])\n",
    "train_data = patient_hospital_data_train.merge(patient_data_train, on=[\"patientID\"])\n",
    "\n",
    "patient_hospital_data_test = diagnosis_data_test.merge(hospital_data_test, on=[\"patientID\"])\n",
    "test_data = patient_hospital_data_test.merge(patient_data_test, on=[\"patientID\"])"
   ]
  },
  {
   "cell_type": "code",
   "execution_count": 19,
   "metadata": {
    "scrolled": false
   },
   "outputs": [
    {
     "data": {
      "text/html": [
       "<div>\n",
       "<style scoped>\n",
       "    .dataframe tbody tr th:only-of-type {\n",
       "        vertical-align: middle;\n",
       "    }\n",
       "\n",
       "    .dataframe tbody tr th {\n",
       "        vertical-align: top;\n",
       "    }\n",
       "\n",
       "    .dataframe thead th {\n",
       "        text-align: right;\n",
       "    }\n",
       "</style>\n",
       "<table border=\"1\" class=\"dataframe\">\n",
       "  <thead>\n",
       "    <tr style=\"text-align: right;\">\n",
       "      <th></th>\n",
       "      <th>patientID</th>\n",
       "      <th>num_procedures</th>\n",
       "      <th>num_medications</th>\n",
       "      <th>num_diagnoses</th>\n",
       "      <th>max_glu_serum</th>\n",
       "      <th>A1Cresult</th>\n",
       "      <th>metformin</th>\n",
       "      <th>repaglinide</th>\n",
       "      <th>nateglinide</th>\n",
       "      <th>chlorpropamide</th>\n",
       "      <th>glimepiride</th>\n",
       "      <th>acetohexamide</th>\n",
       "      <th>glipizide</th>\n",
       "      <th>glyburide</th>\n",
       "      <th>tolbutamide</th>\n",
       "      <th>pioglitazone</th>\n",
       "      <th>rosiglitazone</th>\n",
       "      <th>acarbose</th>\n",
       "      <th>miglitol</th>\n",
       "      <th>troglitazone</th>\n",
       "      <th>tolazamide</th>\n",
       "      <th>insulin</th>\n",
       "      <th>glyburide.metformin</th>\n",
       "      <th>glipizide.metformin</th>\n",
       "      <th>metformin.rosiglitazone</th>\n",
       "      <th>metformin.pioglitazone</th>\n",
       "      <th>change</th>\n",
       "      <th>diabetesMed</th>\n",
       "      <th>AdmissionID</th>\n",
       "      <th>Admission_date</th>\n",
       "      <th>Discharge_date</th>\n",
       "      <th>admission_type_id</th>\n",
       "      <th>admission_source_id</th>\n",
       "      <th>payer_code</th>\n",
       "      <th>medical_specialty</th>\n",
       "      <th>race</th>\n",
       "      <th>gender</th>\n",
       "      <th>age</th>\n",
       "      <th>weight</th>\n",
       "      <th>Target</th>\n",
       "    </tr>\n",
       "  </thead>\n",
       "  <tbody>\n",
       "    <tr>\n",
       "      <th>0</th>\n",
       "      <td>PT456611</td>\n",
       "      <td>0</td>\n",
       "      <td>11</td>\n",
       "      <td>9</td>\n",
       "      <td>None</td>\n",
       "      <td>None</td>\n",
       "      <td>No</td>\n",
       "      <td>No</td>\n",
       "      <td>No</td>\n",
       "      <td>No</td>\n",
       "      <td>No</td>\n",
       "      <td>No</td>\n",
       "      <td>No</td>\n",
       "      <td>No</td>\n",
       "      <td>No</td>\n",
       "      <td>No</td>\n",
       "      <td>Steady</td>\n",
       "      <td>No</td>\n",
       "      <td>No</td>\n",
       "      <td>No</td>\n",
       "      <td>No</td>\n",
       "      <td>Steady</td>\n",
       "      <td>No</td>\n",
       "      <td>No</td>\n",
       "      <td>No</td>\n",
       "      <td>No</td>\n",
       "      <td>Ch</td>\n",
       "      <td>Yes</td>\n",
       "      <td>AD988251</td>\n",
       "      <td>2015-05-04</td>\n",
       "      <td>2015-05-07</td>\n",
       "      <td>1</td>\n",
       "      <td>1</td>\n",
       "      <td>PC8</td>\n",
       "      <td>NaN</td>\n",
       "      <td>type3</td>\n",
       "      <td>Female</td>\n",
       "      <td>[90-100)</td>\n",
       "      <td>NaN</td>\n",
       "      <td>No</td>\n",
       "    </tr>\n",
       "    <tr>\n",
       "      <th>1</th>\n",
       "      <td>PT956824</td>\n",
       "      <td>1</td>\n",
       "      <td>6</td>\n",
       "      <td>6</td>\n",
       "      <td>None</td>\n",
       "      <td>None</td>\n",
       "      <td>No</td>\n",
       "      <td>No</td>\n",
       "      <td>No</td>\n",
       "      <td>No</td>\n",
       "      <td>No</td>\n",
       "      <td>No</td>\n",
       "      <td>No</td>\n",
       "      <td>No</td>\n",
       "      <td>No</td>\n",
       "      <td>No</td>\n",
       "      <td>No</td>\n",
       "      <td>No</td>\n",
       "      <td>No</td>\n",
       "      <td>No</td>\n",
       "      <td>No</td>\n",
       "      <td>No</td>\n",
       "      <td>No</td>\n",
       "      <td>No</td>\n",
       "      <td>No</td>\n",
       "      <td>No</td>\n",
       "      <td>No</td>\n",
       "      <td>No</td>\n",
       "      <td>AD725487</td>\n",
       "      <td>2014-02-20</td>\n",
       "      <td>2014-02-23</td>\n",
       "      <td>1</td>\n",
       "      <td>7</td>\n",
       "      <td>PC1</td>\n",
       "      <td>Oncology</td>\n",
       "      <td>type1</td>\n",
       "      <td>Male</td>\n",
       "      <td>[50-60)</td>\n",
       "      <td>NaN</td>\n",
       "      <td>Yes</td>\n",
       "    </tr>\n",
       "    <tr>\n",
       "      <th>2</th>\n",
       "      <td>PT453330</td>\n",
       "      <td>2</td>\n",
       "      <td>27</td>\n",
       "      <td>9</td>\n",
       "      <td>None</td>\n",
       "      <td>None</td>\n",
       "      <td>No</td>\n",
       "      <td>No</td>\n",
       "      <td>No</td>\n",
       "      <td>No</td>\n",
       "      <td>No</td>\n",
       "      <td>No</td>\n",
       "      <td>No</td>\n",
       "      <td>No</td>\n",
       "      <td>No</td>\n",
       "      <td>No</td>\n",
       "      <td>No</td>\n",
       "      <td>No</td>\n",
       "      <td>No</td>\n",
       "      <td>No</td>\n",
       "      <td>No</td>\n",
       "      <td>No</td>\n",
       "      <td>No</td>\n",
       "      <td>No</td>\n",
       "      <td>No</td>\n",
       "      <td>No</td>\n",
       "      <td>No</td>\n",
       "      <td>No</td>\n",
       "      <td>AD492141</td>\n",
       "      <td>2015-06-01</td>\n",
       "      <td>2015-06-04</td>\n",
       "      <td>1</td>\n",
       "      <td>7</td>\n",
       "      <td>PC8</td>\n",
       "      <td>NaN</td>\n",
       "      <td>type3</td>\n",
       "      <td>Female</td>\n",
       "      <td>[80-90)</td>\n",
       "      <td>NaN</td>\n",
       "      <td>No</td>\n",
       "    </tr>\n",
       "    <tr>\n",
       "      <th>3</th>\n",
       "      <td>PT677563</td>\n",
       "      <td>3</td>\n",
       "      <td>10</td>\n",
       "      <td>5</td>\n",
       "      <td>None</td>\n",
       "      <td>None</td>\n",
       "      <td>No</td>\n",
       "      <td>No</td>\n",
       "      <td>No</td>\n",
       "      <td>No</td>\n",
       "      <td>No</td>\n",
       "      <td>No</td>\n",
       "      <td>No</td>\n",
       "      <td>No</td>\n",
       "      <td>No</td>\n",
       "      <td>No</td>\n",
       "      <td>No</td>\n",
       "      <td>No</td>\n",
       "      <td>No</td>\n",
       "      <td>No</td>\n",
       "      <td>No</td>\n",
       "      <td>Steady</td>\n",
       "      <td>No</td>\n",
       "      <td>No</td>\n",
       "      <td>No</td>\n",
       "      <td>No</td>\n",
       "      <td>No</td>\n",
       "      <td>Yes</td>\n",
       "      <td>AD561393</td>\n",
       "      <td>2015-12-18</td>\n",
       "      <td>2015-12-20</td>\n",
       "      <td>2</td>\n",
       "      <td>1</td>\n",
       "      <td>NaN</td>\n",
       "      <td>Cardiology</td>\n",
       "      <td>type3</td>\n",
       "      <td>Female</td>\n",
       "      <td>[50-60)</td>\n",
       "      <td>NaN</td>\n",
       "      <td>No</td>\n",
       "    </tr>\n",
       "    <tr>\n",
       "      <th>4</th>\n",
       "      <td>PT102924</td>\n",
       "      <td>6</td>\n",
       "      <td>12</td>\n",
       "      <td>9</td>\n",
       "      <td>None</td>\n",
       "      <td>None</td>\n",
       "      <td>No</td>\n",
       "      <td>No</td>\n",
       "      <td>No</td>\n",
       "      <td>No</td>\n",
       "      <td>No</td>\n",
       "      <td>No</td>\n",
       "      <td>No</td>\n",
       "      <td>No</td>\n",
       "      <td>No</td>\n",
       "      <td>No</td>\n",
       "      <td>No</td>\n",
       "      <td>No</td>\n",
       "      <td>No</td>\n",
       "      <td>No</td>\n",
       "      <td>No</td>\n",
       "      <td>No</td>\n",
       "      <td>No</td>\n",
       "      <td>No</td>\n",
       "      <td>No</td>\n",
       "      <td>No</td>\n",
       "      <td>No</td>\n",
       "      <td>No</td>\n",
       "      <td>AD619257</td>\n",
       "      <td>2015-08-19</td>\n",
       "      <td>2015-08-20</td>\n",
       "      <td>3</td>\n",
       "      <td>1</td>\n",
       "      <td>NaN</td>\n",
       "      <td>NaN</td>\n",
       "      <td>type3</td>\n",
       "      <td>Male</td>\n",
       "      <td>[60-70)</td>\n",
       "      <td>NaN</td>\n",
       "      <td>Yes</td>\n",
       "    </tr>\n",
       "  </tbody>\n",
       "</table>\n",
       "</div>"
      ],
      "text/plain": [
       "  patientID  num_procedures  num_medications  num_diagnoses max_glu_serum  \\\n",
       "0  PT456611               0               11              9          None   \n",
       "1  PT956824               1                6              6          None   \n",
       "2  PT453330               2               27              9          None   \n",
       "3  PT677563               3               10              5          None   \n",
       "4  PT102924               6               12              9          None   \n",
       "\n",
       "  A1Cresult metformin repaglinide nateglinide chlorpropamide glimepiride  \\\n",
       "0      None        No          No          No             No          No   \n",
       "1      None        No          No          No             No          No   \n",
       "2      None        No          No          No             No          No   \n",
       "3      None        No          No          No             No          No   \n",
       "4      None        No          No          No             No          No   \n",
       "\n",
       "  acetohexamide glipizide glyburide tolbutamide pioglitazone rosiglitazone  \\\n",
       "0            No        No        No          No           No        Steady   \n",
       "1            No        No        No          No           No            No   \n",
       "2            No        No        No          No           No            No   \n",
       "3            No        No        No          No           No            No   \n",
       "4            No        No        No          No           No            No   \n",
       "\n",
       "  acarbose miglitol troglitazone tolazamide insulin glyburide.metformin  \\\n",
       "0       No       No           No         No  Steady                  No   \n",
       "1       No       No           No         No      No                  No   \n",
       "2       No       No           No         No      No                  No   \n",
       "3       No       No           No         No  Steady                  No   \n",
       "4       No       No           No         No      No                  No   \n",
       "\n",
       "  glipizide.metformin metformin.rosiglitazone metformin.pioglitazone change  \\\n",
       "0                  No                      No                     No     Ch   \n",
       "1                  No                      No                     No     No   \n",
       "2                  No                      No                     No     No   \n",
       "3                  No                      No                     No     No   \n",
       "4                  No                      No                     No     No   \n",
       "\n",
       "  diabetesMed AdmissionID Admission_date Discharge_date  admission_type_id  \\\n",
       "0         Yes    AD988251     2015-05-04     2015-05-07                  1   \n",
       "1          No    AD725487     2014-02-20     2014-02-23                  1   \n",
       "2          No    AD492141     2015-06-01     2015-06-04                  1   \n",
       "3         Yes    AD561393     2015-12-18     2015-12-20                  2   \n",
       "4          No    AD619257     2015-08-19     2015-08-20                  3   \n",
       "\n",
       "   admission_source_id payer_code medical_specialty   race  gender       age  \\\n",
       "0                    1        PC8               NaN  type3  Female  [90-100)   \n",
       "1                    7        PC1          Oncology  type1    Male   [50-60)   \n",
       "2                    7        PC8               NaN  type3  Female   [80-90)   \n",
       "3                    1        NaN        Cardiology  type3  Female   [50-60)   \n",
       "4                    1        NaN               NaN  type3    Male   [60-70)   \n",
       "\n",
       "  weight Target  \n",
       "0    NaN     No  \n",
       "1    NaN    Yes  \n",
       "2    NaN     No  \n",
       "3    NaN     No  \n",
       "4    NaN    Yes  "
      ]
     },
     "execution_count": 19,
     "metadata": {},
     "output_type": "execute_result"
    }
   ],
   "source": [
    "train_data.head()"
   ]
  },
  {
   "cell_type": "code",
   "execution_count": 20,
   "metadata": {},
   "outputs": [
    {
     "data": {
      "text/html": [
       "<div>\n",
       "<style scoped>\n",
       "    .dataframe tbody tr th:only-of-type {\n",
       "        vertical-align: middle;\n",
       "    }\n",
       "\n",
       "    .dataframe tbody tr th {\n",
       "        vertical-align: top;\n",
       "    }\n",
       "\n",
       "    .dataframe thead th {\n",
       "        text-align: right;\n",
       "    }\n",
       "</style>\n",
       "<table border=\"1\" class=\"dataframe\">\n",
       "  <thead>\n",
       "    <tr style=\"text-align: right;\">\n",
       "      <th></th>\n",
       "      <th>patientID</th>\n",
       "      <th>num_procedures</th>\n",
       "      <th>num_medications</th>\n",
       "      <th>num_diagnoses</th>\n",
       "      <th>max_glu_serum</th>\n",
       "      <th>A1Cresult</th>\n",
       "      <th>metformin</th>\n",
       "      <th>repaglinide</th>\n",
       "      <th>nateglinide</th>\n",
       "      <th>chlorpropamide</th>\n",
       "      <th>glimepiride</th>\n",
       "      <th>acetohexamide</th>\n",
       "      <th>glipizide</th>\n",
       "      <th>glyburide</th>\n",
       "      <th>tolbutamide</th>\n",
       "      <th>pioglitazone</th>\n",
       "      <th>rosiglitazone</th>\n",
       "      <th>acarbose</th>\n",
       "      <th>miglitol</th>\n",
       "      <th>troglitazone</th>\n",
       "      <th>tolazamide</th>\n",
       "      <th>insulin</th>\n",
       "      <th>glyburide.metformin</th>\n",
       "      <th>glipizide.metformin</th>\n",
       "      <th>metformin.rosiglitazone</th>\n",
       "      <th>metformin.pioglitazone</th>\n",
       "      <th>change</th>\n",
       "      <th>diabetesMed</th>\n",
       "      <th>AdmissionID</th>\n",
       "      <th>Admission_date</th>\n",
       "      <th>Discharge_date</th>\n",
       "      <th>admission_type_id</th>\n",
       "      <th>admission_source_id</th>\n",
       "      <th>payer_code</th>\n",
       "      <th>medical_specialty</th>\n",
       "      <th>race</th>\n",
       "      <th>gender</th>\n",
       "      <th>age</th>\n",
       "      <th>weight</th>\n",
       "      <th>Target</th>\n",
       "    </tr>\n",
       "  </thead>\n",
       "  <tbody>\n",
       "    <tr>\n",
       "      <th>0</th>\n",
       "      <td>PT456611</td>\n",
       "      <td>0</td>\n",
       "      <td>11</td>\n",
       "      <td>9</td>\n",
       "      <td>None</td>\n",
       "      <td>None</td>\n",
       "      <td>No</td>\n",
       "      <td>No</td>\n",
       "      <td>No</td>\n",
       "      <td>No</td>\n",
       "      <td>No</td>\n",
       "      <td>No</td>\n",
       "      <td>No</td>\n",
       "      <td>No</td>\n",
       "      <td>No</td>\n",
       "      <td>No</td>\n",
       "      <td>Steady</td>\n",
       "      <td>No</td>\n",
       "      <td>No</td>\n",
       "      <td>No</td>\n",
       "      <td>No</td>\n",
       "      <td>Steady</td>\n",
       "      <td>No</td>\n",
       "      <td>No</td>\n",
       "      <td>No</td>\n",
       "      <td>No</td>\n",
       "      <td>Ch</td>\n",
       "      <td>Yes</td>\n",
       "      <td>AD988251</td>\n",
       "      <td>2015-05-04</td>\n",
       "      <td>2015-05-07</td>\n",
       "      <td>1</td>\n",
       "      <td>1</td>\n",
       "      <td>PC8</td>\n",
       "      <td>NaN</td>\n",
       "      <td>type3</td>\n",
       "      <td>Female</td>\n",
       "      <td>[90-100)</td>\n",
       "      <td>NaN</td>\n",
       "      <td>NaN</td>\n",
       "    </tr>\n",
       "    <tr>\n",
       "      <th>1</th>\n",
       "      <td>PT956824</td>\n",
       "      <td>1</td>\n",
       "      <td>6</td>\n",
       "      <td>6</td>\n",
       "      <td>None</td>\n",
       "      <td>None</td>\n",
       "      <td>No</td>\n",
       "      <td>No</td>\n",
       "      <td>No</td>\n",
       "      <td>No</td>\n",
       "      <td>No</td>\n",
       "      <td>No</td>\n",
       "      <td>No</td>\n",
       "      <td>No</td>\n",
       "      <td>No</td>\n",
       "      <td>No</td>\n",
       "      <td>No</td>\n",
       "      <td>No</td>\n",
       "      <td>No</td>\n",
       "      <td>No</td>\n",
       "      <td>No</td>\n",
       "      <td>No</td>\n",
       "      <td>No</td>\n",
       "      <td>No</td>\n",
       "      <td>No</td>\n",
       "      <td>No</td>\n",
       "      <td>No</td>\n",
       "      <td>No</td>\n",
       "      <td>AD725487</td>\n",
       "      <td>2014-02-20</td>\n",
       "      <td>2014-02-23</td>\n",
       "      <td>1</td>\n",
       "      <td>7</td>\n",
       "      <td>PC1</td>\n",
       "      <td>Oncology</td>\n",
       "      <td>type1</td>\n",
       "      <td>Male</td>\n",
       "      <td>[50-60)</td>\n",
       "      <td>NaN</td>\n",
       "      <td>NaN</td>\n",
       "    </tr>\n",
       "    <tr>\n",
       "      <th>2</th>\n",
       "      <td>PT453330</td>\n",
       "      <td>2</td>\n",
       "      <td>27</td>\n",
       "      <td>9</td>\n",
       "      <td>None</td>\n",
       "      <td>None</td>\n",
       "      <td>No</td>\n",
       "      <td>No</td>\n",
       "      <td>No</td>\n",
       "      <td>No</td>\n",
       "      <td>No</td>\n",
       "      <td>No</td>\n",
       "      <td>No</td>\n",
       "      <td>No</td>\n",
       "      <td>No</td>\n",
       "      <td>No</td>\n",
       "      <td>No</td>\n",
       "      <td>No</td>\n",
       "      <td>No</td>\n",
       "      <td>No</td>\n",
       "      <td>No</td>\n",
       "      <td>No</td>\n",
       "      <td>No</td>\n",
       "      <td>No</td>\n",
       "      <td>No</td>\n",
       "      <td>No</td>\n",
       "      <td>No</td>\n",
       "      <td>No</td>\n",
       "      <td>AD492141</td>\n",
       "      <td>2015-06-01</td>\n",
       "      <td>2015-06-04</td>\n",
       "      <td>1</td>\n",
       "      <td>7</td>\n",
       "      <td>PC8</td>\n",
       "      <td>NaN</td>\n",
       "      <td>type3</td>\n",
       "      <td>Female</td>\n",
       "      <td>[80-90)</td>\n",
       "      <td>NaN</td>\n",
       "      <td>NaN</td>\n",
       "    </tr>\n",
       "    <tr>\n",
       "      <th>3</th>\n",
       "      <td>PT677563</td>\n",
       "      <td>3</td>\n",
       "      <td>10</td>\n",
       "      <td>5</td>\n",
       "      <td>None</td>\n",
       "      <td>None</td>\n",
       "      <td>No</td>\n",
       "      <td>No</td>\n",
       "      <td>No</td>\n",
       "      <td>No</td>\n",
       "      <td>No</td>\n",
       "      <td>No</td>\n",
       "      <td>No</td>\n",
       "      <td>No</td>\n",
       "      <td>No</td>\n",
       "      <td>No</td>\n",
       "      <td>No</td>\n",
       "      <td>No</td>\n",
       "      <td>No</td>\n",
       "      <td>No</td>\n",
       "      <td>No</td>\n",
       "      <td>Steady</td>\n",
       "      <td>No</td>\n",
       "      <td>No</td>\n",
       "      <td>No</td>\n",
       "      <td>No</td>\n",
       "      <td>No</td>\n",
       "      <td>Yes</td>\n",
       "      <td>AD561393</td>\n",
       "      <td>2015-12-18</td>\n",
       "      <td>2015-12-20</td>\n",
       "      <td>2</td>\n",
       "      <td>1</td>\n",
       "      <td>NaN</td>\n",
       "      <td>Cardiology</td>\n",
       "      <td>type3</td>\n",
       "      <td>Female</td>\n",
       "      <td>[50-60)</td>\n",
       "      <td>NaN</td>\n",
       "      <td>NaN</td>\n",
       "    </tr>\n",
       "    <tr>\n",
       "      <th>4</th>\n",
       "      <td>PT102924</td>\n",
       "      <td>6</td>\n",
       "      <td>12</td>\n",
       "      <td>9</td>\n",
       "      <td>None</td>\n",
       "      <td>None</td>\n",
       "      <td>No</td>\n",
       "      <td>No</td>\n",
       "      <td>No</td>\n",
       "      <td>No</td>\n",
       "      <td>No</td>\n",
       "      <td>No</td>\n",
       "      <td>No</td>\n",
       "      <td>No</td>\n",
       "      <td>No</td>\n",
       "      <td>No</td>\n",
       "      <td>No</td>\n",
       "      <td>No</td>\n",
       "      <td>No</td>\n",
       "      <td>No</td>\n",
       "      <td>No</td>\n",
       "      <td>No</td>\n",
       "      <td>No</td>\n",
       "      <td>No</td>\n",
       "      <td>No</td>\n",
       "      <td>No</td>\n",
       "      <td>No</td>\n",
       "      <td>No</td>\n",
       "      <td>AD619257</td>\n",
       "      <td>2015-08-19</td>\n",
       "      <td>2015-08-20</td>\n",
       "      <td>3</td>\n",
       "      <td>1</td>\n",
       "      <td>NaN</td>\n",
       "      <td>NaN</td>\n",
       "      <td>type3</td>\n",
       "      <td>Male</td>\n",
       "      <td>[60-70)</td>\n",
       "      <td>NaN</td>\n",
       "      <td>NaN</td>\n",
       "    </tr>\n",
       "  </tbody>\n",
       "</table>\n",
       "</div>"
      ],
      "text/plain": [
       "  patientID  num_procedures  num_medications  num_diagnoses max_glu_serum  \\\n",
       "0  PT456611               0               11              9          None   \n",
       "1  PT956824               1                6              6          None   \n",
       "2  PT453330               2               27              9          None   \n",
       "3  PT677563               3               10              5          None   \n",
       "4  PT102924               6               12              9          None   \n",
       "\n",
       "  A1Cresult metformin repaglinide nateglinide chlorpropamide glimepiride  \\\n",
       "0      None        No          No          No             No          No   \n",
       "1      None        No          No          No             No          No   \n",
       "2      None        No          No          No             No          No   \n",
       "3      None        No          No          No             No          No   \n",
       "4      None        No          No          No             No          No   \n",
       "\n",
       "  acetohexamide glipizide glyburide tolbutamide pioglitazone rosiglitazone  \\\n",
       "0            No        No        No          No           No        Steady   \n",
       "1            No        No        No          No           No            No   \n",
       "2            No        No        No          No           No            No   \n",
       "3            No        No        No          No           No            No   \n",
       "4            No        No        No          No           No            No   \n",
       "\n",
       "  acarbose miglitol troglitazone tolazamide insulin glyburide.metformin  \\\n",
       "0       No       No           No         No  Steady                  No   \n",
       "1       No       No           No         No      No                  No   \n",
       "2       No       No           No         No      No                  No   \n",
       "3       No       No           No         No  Steady                  No   \n",
       "4       No       No           No         No      No                  No   \n",
       "\n",
       "  glipizide.metformin metformin.rosiglitazone metformin.pioglitazone change  \\\n",
       "0                  No                      No                     No     Ch   \n",
       "1                  No                      No                     No     No   \n",
       "2                  No                      No                     No     No   \n",
       "3                  No                      No                     No     No   \n",
       "4                  No                      No                     No     No   \n",
       "\n",
       "  diabetesMed AdmissionID Admission_date Discharge_date  admission_type_id  \\\n",
       "0         Yes    AD988251     2015-05-04     2015-05-07                  1   \n",
       "1          No    AD725487     2014-02-20     2014-02-23                  1   \n",
       "2          No    AD492141     2015-06-01     2015-06-04                  1   \n",
       "3         Yes    AD561393     2015-12-18     2015-12-20                  2   \n",
       "4          No    AD619257     2015-08-19     2015-08-20                  3   \n",
       "\n",
       "   admission_source_id payer_code medical_specialty   race  gender       age  \\\n",
       "0                    1        PC8               NaN  type3  Female  [90-100)   \n",
       "1                    7        PC1          Oncology  type1    Male   [50-60)   \n",
       "2                    7        PC8               NaN  type3  Female   [80-90)   \n",
       "3                    1        NaN        Cardiology  type3  Female   [50-60)   \n",
       "4                    1        NaN               NaN  type3    Male   [60-70)   \n",
       "\n",
       "  weight Target  \n",
       "0    NaN    NaN  \n",
       "1    NaN    NaN  \n",
       "2    NaN    NaN  \n",
       "3    NaN    NaN  \n",
       "4    NaN    NaN  "
      ]
     },
     "execution_count": 20,
     "metadata": {},
     "output_type": "execute_result"
    }
   ],
   "source": [
    "test_data.head()"
   ]
  },
  {
   "cell_type": "code",
   "execution_count": 21,
   "metadata": {},
   "outputs": [
    {
     "data": {
      "text/plain": [
       "Index(['patientID', 'num_procedures', 'num_medications', 'num_diagnoses',\n",
       "       'max_glu_serum', 'A1Cresult', 'metformin', 'repaglinide', 'nateglinide',\n",
       "       'chlorpropamide', 'glimepiride', 'acetohexamide', 'glipizide',\n",
       "       'glyburide', 'tolbutamide', 'pioglitazone', 'rosiglitazone', 'acarbose',\n",
       "       'miglitol', 'troglitazone', 'tolazamide', 'insulin',\n",
       "       'glyburide.metformin', 'glipizide.metformin', 'metformin.rosiglitazone',\n",
       "       'metformin.pioglitazone', 'change', 'diabetesMed', 'AdmissionID',\n",
       "       'Admission_date', 'Discharge_date', 'admission_type_id',\n",
       "       'admission_source_id', 'payer_code', 'medical_specialty', 'race',\n",
       "       'gender', 'age', 'weight', 'Target'],\n",
       "      dtype='object')"
      ]
     },
     "execution_count": 21,
     "metadata": {},
     "output_type": "execute_result"
    }
   ],
   "source": [
    "train_data.columns"
   ]
  },
  {
   "cell_type": "code",
   "execution_count": 22,
   "metadata": {},
   "outputs": [
    {
     "data": {
      "text/plain": [
       "patientID                   0.000000\n",
       "num_procedures              0.000000\n",
       "num_medications             0.000000\n",
       "num_diagnoses               0.000000\n",
       "max_glu_serum               0.000000\n",
       "A1Cresult                   0.000000\n",
       "metformin                   0.000000\n",
       "repaglinide                 0.000000\n",
       "nateglinide                 0.000000\n",
       "chlorpropamide              0.000000\n",
       "glimepiride                 0.000000\n",
       "acetohexamide               0.000000\n",
       "glipizide                   0.000000\n",
       "glyburide                   0.000000\n",
       "tolbutamide                 0.000000\n",
       "pioglitazone                0.000000\n",
       "rosiglitazone               0.000000\n",
       "acarbose                    0.000000\n",
       "miglitol                    0.000000\n",
       "troglitazone                0.000000\n",
       "tolazamide                  0.000000\n",
       "insulin                     0.000000\n",
       "glyburide.metformin         0.000000\n",
       "glipizide.metformin         0.000000\n",
       "metformin.rosiglitazone     0.000000\n",
       "metformin.pioglitazone      0.000000\n",
       "change                      0.000000\n",
       "diabetesMed                 0.000000\n",
       "AdmissionID                 0.000000\n",
       "Admission_date              0.000000\n",
       "Discharge_date              0.000000\n",
       "admission_type_id           0.000000\n",
       "admission_source_id         0.000000\n",
       "payer_code                 42.096801\n",
       "medical_specialty          47.316128\n",
       "race                        0.000000\n",
       "gender                      0.000000\n",
       "age                         0.000000\n",
       "weight                     97.035785\n",
       "Target                      0.000000\n",
       "dtype: float64"
      ]
     },
     "execution_count": 22,
     "metadata": {},
     "output_type": "execute_result"
    }
   ],
   "source": [
    "missing_percent = (train_data.isna().sum()) / (train_data.shape[0]) * 100\n",
    "missing_percent"
   ]
  },
  {
   "cell_type": "code",
   "execution_count": 23,
   "metadata": {},
   "outputs": [
    {
     "data": {
      "text/plain": [
       "patientID                    0.000000\n",
       "num_procedures               0.000000\n",
       "num_medications              0.000000\n",
       "num_diagnoses                0.000000\n",
       "max_glu_serum                0.000000\n",
       "A1Cresult                    0.000000\n",
       "metformin                    0.000000\n",
       "repaglinide                  0.000000\n",
       "nateglinide                  0.000000\n",
       "chlorpropamide               0.000000\n",
       "glimepiride                  0.000000\n",
       "acetohexamide                0.000000\n",
       "glipizide                    0.000000\n",
       "glyburide                    0.000000\n",
       "tolbutamide                  0.000000\n",
       "pioglitazone                 0.000000\n",
       "rosiglitazone                0.000000\n",
       "acarbose                     0.000000\n",
       "miglitol                     0.000000\n",
       "troglitazone                 0.000000\n",
       "tolazamide                   0.000000\n",
       "insulin                      0.000000\n",
       "glyburide.metformin          0.000000\n",
       "glipizide.metformin          0.000000\n",
       "metformin.rosiglitazone      0.000000\n",
       "metformin.pioglitazone       0.000000\n",
       "change                       0.000000\n",
       "diabetesMed                  0.000000\n",
       "AdmissionID                  0.000000\n",
       "Admission_date               0.000000\n",
       "Discharge_date               0.000000\n",
       "admission_type_id            0.000000\n",
       "admission_source_id          0.000000\n",
       "payer_code                  41.325617\n",
       "medical_specialty           47.691884\n",
       "race                         0.000000\n",
       "gender                       0.000000\n",
       "age                          0.000000\n",
       "weight                      96.899545\n",
       "Target                     100.000000\n",
       "dtype: float64"
      ]
     },
     "execution_count": 23,
     "metadata": {},
     "output_type": "execute_result"
    }
   ],
   "source": [
    "missing_percent = (test_data.isna().sum()) / (test_data.shape[0]) * 100\n",
    "missing_percent"
   ]
  },
  {
   "cell_type": "code",
   "execution_count": 24,
   "metadata": {},
   "outputs": [
    {
     "data": {
      "text/plain": [
       "26.673812664907654"
      ]
     },
     "execution_count": 24,
     "metadata": {},
     "output_type": "execute_result"
    }
   ],
   "source": [
    "(train_data[train_data[\"Target\"] == \"Yes\"][\"Target\"].count())/(train_data.shape[0]) * 100"
   ]
  },
  {
   "cell_type": "code",
   "execution_count": 25,
   "metadata": {},
   "outputs": [
    {
     "data": {
      "text/plain": [
       "patientID                  24256\n",
       "num_procedures                 7\n",
       "num_medications               70\n",
       "num_diagnoses                 15\n",
       "max_glu_serum                  4\n",
       "A1Cresult                      4\n",
       "metformin                      4\n",
       "repaglinide                    4\n",
       "nateglinide                    4\n",
       "chlorpropamide                 4\n",
       "glimepiride                    4\n",
       "acetohexamide                  1\n",
       "glipizide                      4\n",
       "glyburide                      4\n",
       "tolbutamide                    2\n",
       "pioglitazone                   4\n",
       "rosiglitazone                  4\n",
       "acarbose                       3\n",
       "miglitol                       2\n",
       "troglitazone                   2\n",
       "tolazamide                     2\n",
       "insulin                        4\n",
       "glyburide.metformin            3\n",
       "glipizide.metformin            2\n",
       "metformin.rosiglitazone        1\n",
       "metformin.pioglitazone         2\n",
       "change                         2\n",
       "diabetesMed                    2\n",
       "AdmissionID                24256\n",
       "Admission_date               912\n",
       "Discharge_date               923\n",
       "admission_type_id              8\n",
       "admission_source_id           16\n",
       "payer_code                    17\n",
       "medical_specialty             63\n",
       "race                           5\n",
       "gender                         2\n",
       "age                           10\n",
       "weight                         8\n",
       "Target                         2\n",
       "dtype: int64"
      ]
     },
     "execution_count": 25,
     "metadata": {},
     "output_type": "execute_result"
    }
   ],
   "source": [
    "train_data.nunique()"
   ]
  },
  {
   "cell_type": "code",
   "execution_count": 26,
   "metadata": {},
   "outputs": [],
   "source": [
    "train_data = train_data.drop([\"weight\",\"payer_code\",\"medical_specialty\",\"acetohexamide\",\"metformin.rosiglitazone\",\"AdmissionID\"],axis=1)\n",
    "test_data = test_data.drop([\"weight\",\"payer_code\",\"medical_specialty\",\"acetohexamide\",\"metformin.rosiglitazone\",\"AdmissionID\"],axis=1)"
   ]
  },
  {
   "cell_type": "code",
   "execution_count": 27,
   "metadata": {},
   "outputs": [
    {
     "name": "stdout",
     "output_type": "stream",
     "text": [
      "PT781135    1\n",
      "PT503861    1\n",
      "PT650661    1\n",
      "PT556887    1\n",
      "PT143574    1\n",
      "PT338476    1\n",
      "PT724230    1\n",
      "PT612965    1\n",
      "PT394469    1\n",
      "PT715003    1\n",
      "PT17465     1\n",
      "PT223223    1\n",
      "PT553310    1\n",
      "PT859883    1\n",
      "PT122508    1\n",
      "PT643188    1\n",
      "PT232096    1\n",
      "PT224037    1\n",
      "PT27254     1\n",
      "PT443649    1\n",
      "PT994768    1\n",
      "PT894536    1\n",
      "PT964174    1\n",
      "PT170581    1\n",
      "PT118253    1\n",
      "PT622485    1\n",
      "PT908696    1\n",
      "PT713416    1\n",
      "PT768020    1\n",
      "PT855778    1\n",
      "           ..\n",
      "PT917541    1\n",
      "PT279976    1\n",
      "PT472524    1\n",
      "PT681932    1\n",
      "PT933519    1\n",
      "PT772814    1\n",
      "PT580359    1\n",
      "PT313563    1\n",
      "PT631034    1\n",
      "PT579989    1\n",
      "PT58650     1\n",
      "PT301732    1\n",
      "PT274079    1\n",
      "PT658142    1\n",
      "PT305132    1\n",
      "PT527803    1\n",
      "PT242847    1\n",
      "PT789197    1\n",
      "PT162537    1\n",
      "PT940851    1\n",
      "PT371700    1\n",
      "PT620569    1\n",
      "PT313317    1\n",
      "PT757525    1\n",
      "PT500257    1\n",
      "PT431097    1\n",
      "PT428268    1\n",
      "PT884737    1\n",
      "PT237266    1\n",
      "PT698706    1\n",
      "Name: patientID, Length: 24256, dtype: int64\n",
      "0    10433\n",
      "1     4964\n",
      "2     3157\n",
      "3     2453\n",
      "6     1347\n",
      "4     1068\n",
      "5      834\n",
      "Name: num_procedures, dtype: int64\n",
      "12    1480\n",
      "13    1400\n",
      "11    1379\n",
      "10    1328\n",
      "14    1324\n",
      "9     1313\n",
      "15    1265\n",
      "16    1186\n",
      "8     1184\n",
      "17    1073\n",
      "18    1013\n",
      "7      950\n",
      "19     879\n",
      "6      782\n",
      "20     768\n",
      "21     692\n",
      "22     635\n",
      "5      626\n",
      "23     517\n",
      "24     460\n",
      "4      450\n",
      "25     420\n",
      "26     349\n",
      "27     303\n",
      "28     275\n",
      "3      268\n",
      "29     218\n",
      "30     176\n",
      "2      167\n",
      "31     155\n",
      "      ... \n",
      "40      44\n",
      "41      39\n",
      "42      37\n",
      "45      31\n",
      "44      30\n",
      "46      26\n",
      "49      20\n",
      "48      19\n",
      "47      18\n",
      "52      18\n",
      "51      16\n",
      "53      14\n",
      "50      12\n",
      "56      12\n",
      "54      12\n",
      "55       8\n",
      "58       8\n",
      "59       7\n",
      "60       6\n",
      "57       6\n",
      "61       4\n",
      "63       4\n",
      "65       3\n",
      "64       3\n",
      "62       2\n",
      "67       2\n",
      "72       2\n",
      "68       2\n",
      "70       1\n",
      "81       1\n",
      "Name: num_medications, Length: 70, dtype: int64\n",
      "9     10237\n",
      "5      3420\n",
      "6      2656\n",
      "7      2514\n",
      "8      2471\n",
      "4      1626\n",
      "3       897\n",
      "2       325\n",
      "1        82\n",
      "16       12\n",
      "13        4\n",
      "12        4\n",
      "10        4\n",
      "15        2\n",
      "14        2\n",
      "Name: num_diagnoses, dtype: int64\n",
      "None    23147\n",
      "Norm      592\n",
      ">200      301\n",
      ">300      216\n",
      "Name: max_glu_serum, dtype: int64\n",
      "None    19765\n",
      ">8       2101\n",
      "Norm     1387\n",
      ">7       1003\n",
      "Name: A1Cresult, dtype: int64\n",
      "No        19094\n",
      "Steady     4709\n",
      "Up          306\n",
      "Down        147\n",
      "Name: metformin, dtype: int64\n",
      "No        23962\n",
      "Steady      262\n",
      "Up           24\n",
      "Down          8\n",
      "Name: repaglinide, dtype: int64\n",
      "No        24100\n",
      "Steady      150\n",
      "Up            4\n",
      "Down          2\n",
      "Name: nateglinide, dtype: int64\n",
      "No        24233\n",
      "Steady       21\n",
      "Down          1\n",
      "Up            1\n",
      "Name: chlorpropamide, dtype: int64\n",
      "No        22986\n",
      "Steady     1140\n",
      "Up           79\n",
      "Down         51\n",
      "Name: glimepiride, dtype: int64\n",
      "No        21343\n",
      "Steady     2596\n",
      "Up          200\n",
      "Down        117\n",
      "Name: glipizide, dtype: int64\n",
      "No        21627\n",
      "Steady     2287\n",
      "Up          209\n",
      "Down        133\n",
      "Name: glyburide, dtype: int64\n",
      "No        24251\n",
      "Steady        5\n",
      "Name: tolbutamide, dtype: int64\n",
      "No        22527\n",
      "Steady     1655\n",
      "Up           57\n",
      "Down         17\n",
      "Name: pioglitazone, dtype: int64\n",
      "No        22694\n",
      "Steady     1481\n",
      "Up           50\n",
      "Down         31\n",
      "Name: rosiglitazone, dtype: int64\n",
      "No        24186\n",
      "Steady       65\n",
      "Up            5\n",
      "Name: acarbose, dtype: int64\n",
      "No        24253\n",
      "Steady        3\n",
      "Name: miglitol, dtype: int64\n",
      "No        24255\n",
      "Steady        1\n",
      "Name: troglitazone, dtype: int64\n",
      "No        24246\n",
      "Steady       10\n",
      "Name: tolazamide, dtype: int64\n",
      "No        11987\n",
      "Steady     7626\n",
      "Down       2403\n",
      "Up         2240\n",
      "Name: insulin, dtype: int64\n",
      "No        24111\n",
      "Steady      142\n",
      "Up            3\n",
      "Name: glyburide.metformin, dtype: int64\n",
      "No        24255\n",
      "Steady        1\n",
      "Name: glipizide.metformin, dtype: int64\n",
      "No        24255\n",
      "Steady        1\n",
      "Name: metformin.pioglitazone, dtype: int64\n",
      "No    13697\n",
      "Ch    10559\n",
      "Name: change, dtype: int64\n",
      "Yes    18121\n",
      "No      6135\n",
      "Name: diabetesMed, dtype: int64\n",
      "2014-11-22    46\n",
      "2014-06-16    43\n",
      "2015-01-27    43\n",
      "2015-05-18    42\n",
      "2014-02-05    42\n",
      "2014-01-13    40\n",
      "2015-03-12    40\n",
      "2016-01-30    39\n",
      "2014-11-24    39\n",
      "2015-03-07    39\n",
      "2014-04-21    38\n",
      "2015-10-07    38\n",
      "2016-02-24    38\n",
      "2014-08-18    38\n",
      "2014-02-27    38\n",
      "2015-08-02    38\n",
      "2015-11-09    37\n",
      "2015-03-20    37\n",
      "2015-03-29    37\n",
      "2016-04-17    37\n",
      "2014-09-09    37\n",
      "2016-03-13    37\n",
      "2014-11-30    37\n",
      "2014-04-28    37\n",
      "2015-08-05    37\n",
      "2016-03-22    37\n",
      "2015-11-11    37\n",
      "2015-11-26    36\n",
      "2014-07-14    36\n",
      "2014-11-02    36\n",
      "              ..\n",
      "2015-07-28    18\n",
      "2016-04-03    18\n",
      "2014-08-03    18\n",
      "2014-01-05    18\n",
      "2014-07-02    17\n",
      "2014-04-24    17\n",
      "2016-01-13    17\n",
      "2015-01-25    17\n",
      "2014-03-05    17\n",
      "2015-12-21    16\n",
      "2015-11-02    16\n",
      "2016-02-13    16\n",
      "2015-09-20    16\n",
      "2015-08-31    16\n",
      "2015-09-18    16\n",
      "2015-08-23    16\n",
      "2014-05-04    16\n",
      "2014-07-19    16\n",
      "2016-02-04    15\n",
      "2014-10-05    15\n",
      "2014-02-24    15\n",
      "2015-10-22    15\n",
      "2016-03-26    14\n",
      "2016-04-25    14\n",
      "2016-04-01    14\n",
      "2015-12-02    13\n",
      "2014-06-21    12\n",
      "2016-03-15    12\n",
      "2014-07-04    11\n",
      "2015-07-22    11\n",
      "Name: Admission_date, Length: 912, dtype: int64\n",
      "2016-01-12    44\n",
      "2015-02-13    42\n",
      "2016-06-01    41\n",
      "2014-09-21    41\n",
      "2016-05-21    40\n",
      "2014-07-05    40\n",
      "2014-11-24    40\n",
      "2014-11-27    40\n",
      "2015-05-23    39\n",
      "2014-09-28    39\n",
      "2015-11-30    39\n",
      "2014-11-04    39\n",
      "2014-07-19    38\n",
      "2014-09-07    38\n",
      "2015-10-11    38\n",
      "2016-04-23    38\n",
      "2015-06-28    38\n",
      "2014-02-11    38\n",
      "2014-04-10    37\n",
      "2015-05-06    37\n",
      "2015-03-24    37\n",
      "2016-03-05    37\n",
      "2015-09-27    37\n",
      "2016-01-21    37\n",
      "2015-03-28    37\n",
      "2016-06-26    37\n",
      "2016-01-13    37\n",
      "2015-05-03    37\n",
      "2015-10-21    37\n",
      "2015-03-30    36\n",
      "              ..\n",
      "2016-06-11    17\n",
      "2014-10-22    17\n",
      "2014-01-04    17\n",
      "2014-10-09    17\n",
      "2014-08-06    17\n",
      "2015-11-20    17\n",
      "2016-05-09    17\n",
      "2014-01-11    17\n",
      "2016-03-10    17\n",
      "2016-06-18    17\n",
      "2016-02-07    16\n",
      "2016-03-01    16\n",
      "2015-09-21    16\n",
      "2015-04-17    16\n",
      "2015-09-06    16\n",
      "2014-02-06    16\n",
      "2015-09-10    15\n",
      "2015-12-23    15\n",
      "2014-01-06    14\n",
      "2014-01-03    13\n",
      "2014-01-05    10\n",
      "2016-07-05     8\n",
      "2016-07-07     7\n",
      "2014-01-02     6\n",
      "2016-07-06     5\n",
      "2016-07-08     4\n",
      "2016-07-09     2\n",
      "2016-07-10     2\n",
      "2016-07-14     1\n",
      "2016-07-11     1\n",
      "Name: Discharge_date, Length: 923, dtype: int64\n",
      "1    12235\n",
      "3     4998\n",
      "2     4463\n",
      "6     1338\n",
      "5     1091\n",
      "8      117\n",
      "7       11\n",
      "4        3\n",
      "Name: admission_type_id, dtype: int64\n",
      "7     12484\n",
      "1      7710\n",
      "17     1567\n",
      "4      1034\n",
      "6       768\n",
      "2       345\n",
      "5       199\n",
      "9        47\n",
      "3        46\n",
      "20       45\n",
      "10        3\n",
      "8         3\n",
      "22        2\n",
      "14        1\n",
      "13        1\n",
      "25        1\n",
      "Name: admission_source_id, dtype: int64\n",
      "type3    17954\n",
      "type1     4381\n",
      "type4     1318\n",
      "type5      429\n",
      "type2      174\n",
      "Name: race, dtype: int64\n",
      "Female    12727\n",
      "Male      11529\n",
      "Name: gender, dtype: int64\n",
      "[70-80)     5992\n",
      "[60-70)     5366\n",
      "[50-60)     4276\n",
      "[80-90)     3785\n",
      "[40-50)     2411\n",
      "[30-40)     1028\n",
      "[90-100)     716\n",
      "[20-30)      422\n",
      "[10-20)      196\n",
      "[0-10)        64\n",
      "Name: age, dtype: int64\n",
      "No     17786\n",
      "Yes     6470\n",
      "Name: Target, dtype: int64\n"
     ]
    }
   ],
   "source": [
    "for col in train_data:\n",
    "    print(train_data[col].value_counts())"
   ]
  },
  {
   "cell_type": "code",
   "execution_count": 28,
   "metadata": {},
   "outputs": [
    {
     "data": {
      "text/html": [
       "<div>\n",
       "<style scoped>\n",
       "    .dataframe tbody tr th:only-of-type {\n",
       "        vertical-align: middle;\n",
       "    }\n",
       "\n",
       "    .dataframe tbody tr th {\n",
       "        vertical-align: top;\n",
       "    }\n",
       "\n",
       "    .dataframe thead th {\n",
       "        text-align: right;\n",
       "    }\n",
       "</style>\n",
       "<table border=\"1\" class=\"dataframe\">\n",
       "  <thead>\n",
       "    <tr style=\"text-align: right;\">\n",
       "      <th></th>\n",
       "      <th>patientID</th>\n",
       "      <th>num_procedures</th>\n",
       "      <th>num_medications</th>\n",
       "      <th>num_diagnoses</th>\n",
       "      <th>max_glu_serum</th>\n",
       "      <th>A1Cresult</th>\n",
       "      <th>metformin</th>\n",
       "      <th>repaglinide</th>\n",
       "      <th>nateglinide</th>\n",
       "      <th>chlorpropamide</th>\n",
       "      <th>glimepiride</th>\n",
       "      <th>glipizide</th>\n",
       "      <th>glyburide</th>\n",
       "      <th>tolbutamide</th>\n",
       "      <th>pioglitazone</th>\n",
       "      <th>rosiglitazone</th>\n",
       "      <th>acarbose</th>\n",
       "      <th>miglitol</th>\n",
       "      <th>troglitazone</th>\n",
       "      <th>tolazamide</th>\n",
       "      <th>insulin</th>\n",
       "      <th>glyburide.metformin</th>\n",
       "      <th>glipizide.metformin</th>\n",
       "      <th>metformin.pioglitazone</th>\n",
       "      <th>change</th>\n",
       "      <th>diabetesMed</th>\n",
       "      <th>Admission_date</th>\n",
       "      <th>Discharge_date</th>\n",
       "      <th>admission_type_id</th>\n",
       "      <th>admission_source_id</th>\n",
       "      <th>race</th>\n",
       "      <th>gender</th>\n",
       "      <th>age</th>\n",
       "      <th>Target</th>\n",
       "    </tr>\n",
       "  </thead>\n",
       "  <tbody>\n",
       "    <tr>\n",
       "      <th>0</th>\n",
       "      <td>PT456611</td>\n",
       "      <td>0</td>\n",
       "      <td>11</td>\n",
       "      <td>9</td>\n",
       "      <td>None</td>\n",
       "      <td>None</td>\n",
       "      <td>No</td>\n",
       "      <td>No</td>\n",
       "      <td>No</td>\n",
       "      <td>No</td>\n",
       "      <td>No</td>\n",
       "      <td>No</td>\n",
       "      <td>No</td>\n",
       "      <td>No</td>\n",
       "      <td>No</td>\n",
       "      <td>Steady</td>\n",
       "      <td>No</td>\n",
       "      <td>No</td>\n",
       "      <td>No</td>\n",
       "      <td>No</td>\n",
       "      <td>Steady</td>\n",
       "      <td>No</td>\n",
       "      <td>No</td>\n",
       "      <td>No</td>\n",
       "      <td>Ch</td>\n",
       "      <td>Yes</td>\n",
       "      <td>2015-05-04</td>\n",
       "      <td>2015-05-07</td>\n",
       "      <td>1</td>\n",
       "      <td>1</td>\n",
       "      <td>type3</td>\n",
       "      <td>Female</td>\n",
       "      <td>95.0</td>\n",
       "      <td>No</td>\n",
       "    </tr>\n",
       "    <tr>\n",
       "      <th>1</th>\n",
       "      <td>PT956824</td>\n",
       "      <td>1</td>\n",
       "      <td>6</td>\n",
       "      <td>6</td>\n",
       "      <td>None</td>\n",
       "      <td>None</td>\n",
       "      <td>No</td>\n",
       "      <td>No</td>\n",
       "      <td>No</td>\n",
       "      <td>No</td>\n",
       "      <td>No</td>\n",
       "      <td>No</td>\n",
       "      <td>No</td>\n",
       "      <td>No</td>\n",
       "      <td>No</td>\n",
       "      <td>No</td>\n",
       "      <td>No</td>\n",
       "      <td>No</td>\n",
       "      <td>No</td>\n",
       "      <td>No</td>\n",
       "      <td>No</td>\n",
       "      <td>No</td>\n",
       "      <td>No</td>\n",
       "      <td>No</td>\n",
       "      <td>No</td>\n",
       "      <td>No</td>\n",
       "      <td>2014-02-20</td>\n",
       "      <td>2014-02-23</td>\n",
       "      <td>1</td>\n",
       "      <td>7</td>\n",
       "      <td>type1</td>\n",
       "      <td>Male</td>\n",
       "      <td>55.0</td>\n",
       "      <td>Yes</td>\n",
       "    </tr>\n",
       "    <tr>\n",
       "      <th>2</th>\n",
       "      <td>PT453330</td>\n",
       "      <td>2</td>\n",
       "      <td>27</td>\n",
       "      <td>9</td>\n",
       "      <td>None</td>\n",
       "      <td>None</td>\n",
       "      <td>No</td>\n",
       "      <td>No</td>\n",
       "      <td>No</td>\n",
       "      <td>No</td>\n",
       "      <td>No</td>\n",
       "      <td>No</td>\n",
       "      <td>No</td>\n",
       "      <td>No</td>\n",
       "      <td>No</td>\n",
       "      <td>No</td>\n",
       "      <td>No</td>\n",
       "      <td>No</td>\n",
       "      <td>No</td>\n",
       "      <td>No</td>\n",
       "      <td>No</td>\n",
       "      <td>No</td>\n",
       "      <td>No</td>\n",
       "      <td>No</td>\n",
       "      <td>No</td>\n",
       "      <td>No</td>\n",
       "      <td>2015-06-01</td>\n",
       "      <td>2015-06-04</td>\n",
       "      <td>1</td>\n",
       "      <td>7</td>\n",
       "      <td>type3</td>\n",
       "      <td>Female</td>\n",
       "      <td>85.0</td>\n",
       "      <td>No</td>\n",
       "    </tr>\n",
       "    <tr>\n",
       "      <th>3</th>\n",
       "      <td>PT677563</td>\n",
       "      <td>3</td>\n",
       "      <td>10</td>\n",
       "      <td>5</td>\n",
       "      <td>None</td>\n",
       "      <td>None</td>\n",
       "      <td>No</td>\n",
       "      <td>No</td>\n",
       "      <td>No</td>\n",
       "      <td>No</td>\n",
       "      <td>No</td>\n",
       "      <td>No</td>\n",
       "      <td>No</td>\n",
       "      <td>No</td>\n",
       "      <td>No</td>\n",
       "      <td>No</td>\n",
       "      <td>No</td>\n",
       "      <td>No</td>\n",
       "      <td>No</td>\n",
       "      <td>No</td>\n",
       "      <td>Steady</td>\n",
       "      <td>No</td>\n",
       "      <td>No</td>\n",
       "      <td>No</td>\n",
       "      <td>No</td>\n",
       "      <td>Yes</td>\n",
       "      <td>2015-12-18</td>\n",
       "      <td>2015-12-20</td>\n",
       "      <td>2</td>\n",
       "      <td>1</td>\n",
       "      <td>type3</td>\n",
       "      <td>Female</td>\n",
       "      <td>55.0</td>\n",
       "      <td>No</td>\n",
       "    </tr>\n",
       "    <tr>\n",
       "      <th>4</th>\n",
       "      <td>PT102924</td>\n",
       "      <td>6</td>\n",
       "      <td>12</td>\n",
       "      <td>9</td>\n",
       "      <td>None</td>\n",
       "      <td>None</td>\n",
       "      <td>No</td>\n",
       "      <td>No</td>\n",
       "      <td>No</td>\n",
       "      <td>No</td>\n",
       "      <td>No</td>\n",
       "      <td>No</td>\n",
       "      <td>No</td>\n",
       "      <td>No</td>\n",
       "      <td>No</td>\n",
       "      <td>No</td>\n",
       "      <td>No</td>\n",
       "      <td>No</td>\n",
       "      <td>No</td>\n",
       "      <td>No</td>\n",
       "      <td>No</td>\n",
       "      <td>No</td>\n",
       "      <td>No</td>\n",
       "      <td>No</td>\n",
       "      <td>No</td>\n",
       "      <td>No</td>\n",
       "      <td>2015-08-19</td>\n",
       "      <td>2015-08-20</td>\n",
       "      <td>3</td>\n",
       "      <td>1</td>\n",
       "      <td>type3</td>\n",
       "      <td>Male</td>\n",
       "      <td>65.0</td>\n",
       "      <td>Yes</td>\n",
       "    </tr>\n",
       "  </tbody>\n",
       "</table>\n",
       "</div>"
      ],
      "text/plain": [
       "  patientID  num_procedures  num_medications  num_diagnoses max_glu_serum  \\\n",
       "0  PT456611               0               11              9          None   \n",
       "1  PT956824               1                6              6          None   \n",
       "2  PT453330               2               27              9          None   \n",
       "3  PT677563               3               10              5          None   \n",
       "4  PT102924               6               12              9          None   \n",
       "\n",
       "  A1Cresult metformin repaglinide nateglinide chlorpropamide glimepiride  \\\n",
       "0      None        No          No          No             No          No   \n",
       "1      None        No          No          No             No          No   \n",
       "2      None        No          No          No             No          No   \n",
       "3      None        No          No          No             No          No   \n",
       "4      None        No          No          No             No          No   \n",
       "\n",
       "  glipizide glyburide tolbutamide pioglitazone rosiglitazone acarbose  \\\n",
       "0        No        No          No           No        Steady       No   \n",
       "1        No        No          No           No            No       No   \n",
       "2        No        No          No           No            No       No   \n",
       "3        No        No          No           No            No       No   \n",
       "4        No        No          No           No            No       No   \n",
       "\n",
       "  miglitol troglitazone tolazamide insulin glyburide.metformin  \\\n",
       "0       No           No         No  Steady                  No   \n",
       "1       No           No         No      No                  No   \n",
       "2       No           No         No      No                  No   \n",
       "3       No           No         No  Steady                  No   \n",
       "4       No           No         No      No                  No   \n",
       "\n",
       "  glipizide.metformin metformin.pioglitazone change diabetesMed  \\\n",
       "0                  No                     No     Ch         Yes   \n",
       "1                  No                     No     No          No   \n",
       "2                  No                     No     No          No   \n",
       "3                  No                     No     No         Yes   \n",
       "4                  No                     No     No          No   \n",
       "\n",
       "  Admission_date Discharge_date  admission_type_id  admission_source_id  \\\n",
       "0     2015-05-04     2015-05-07                  1                    1   \n",
       "1     2014-02-20     2014-02-23                  1                    7   \n",
       "2     2015-06-01     2015-06-04                  1                    7   \n",
       "3     2015-12-18     2015-12-20                  2                    1   \n",
       "4     2015-08-19     2015-08-20                  3                    1   \n",
       "\n",
       "    race  gender   age Target  \n",
       "0  type3  Female  95.0     No  \n",
       "1  type1    Male  55.0    Yes  \n",
       "2  type3  Female  85.0     No  \n",
       "3  type3  Female  55.0     No  \n",
       "4  type3    Male  65.0    Yes  "
      ]
     },
     "execution_count": 28,
     "metadata": {},
     "output_type": "execute_result"
    }
   ],
   "source": [
    "train_data[\"age\"] = train_data[\"age\"].str[1:-1]\n",
    "train_data[\"age\"] = train_data[\"age\"].str.split(\"-\")\n",
    "train_data[\"age\"] = train_data[\"age\"].apply(lambda x: list(map(int,x)))\n",
    "train_data[\"age\"] = train_data[\"age\"].apply(lambda x: sum(x)/2)\n",
    "\n",
    "test_data[\"age\"] = test_data[\"age\"].str[1:-1]\n",
    "test_data[\"age\"] = test_data[\"age\"].str.split(\"-\")\n",
    "test_data[\"age\"] = test_data[\"age\"].apply(lambda x: list(map(int,x)))\n",
    "test_data[\"age\"] = test_data[\"age\"].apply(lambda x: sum(x)/2)\n",
    "\n",
    "train_data.head()"
   ]
  },
  {
   "cell_type": "markdown",
   "metadata": {},
   "source": [
    "#### Deriving Admission Days and Admission Month"
   ]
  },
  {
   "cell_type": "code",
   "execution_count": 29,
   "metadata": {},
   "outputs": [],
   "source": [
    "train_data[\"Discharge_date\"]=train_data[\"Discharge_date\"].apply(lambda x: datetime.datetime.strptime(x,'%Y-%m-%d'))\n",
    "train_data[\"Admission_date\"]=train_data[\"Admission_date\"].apply(lambda x: datetime.datetime.strptime(x,'%Y-%m-%d'))\n",
    "train_data[\"admission_days\"] = train_data[\"Discharge_date\"] - train_data[\"Admission_date\"]\n",
    "train_data[\"admission_days\"] = train_data[\"admission_days\"].apply(lambda x: x.days)\n",
    "train_data[\"admission_month\"] = train_data[\"Admission_date\"].apply(lambda x: x.month)\n",
    "\n",
    "test_data[\"Discharge_date\"]=test_data[\"Discharge_date\"].apply(lambda x: datetime.datetime.strptime(x,'%Y-%m-%d'))\n",
    "test_data[\"Admission_date\"]=test_data[\"Admission_date\"].apply(lambda x: datetime.datetime.strptime(x,'%Y-%m-%d'))\n",
    "test_data[\"admission_days\"] = test_data[\"Discharge_date\"] - test_data[\"Admission_date\"]\n",
    "test_data[\"admission_days\"] = test_data[\"admission_days\"].apply(lambda x: x.days)\n",
    "test_data[\"admission_month\"] = test_data[\"Admission_date\"].apply(lambda x: x.month)"
   ]
  },
  {
   "cell_type": "code",
   "execution_count": 30,
   "metadata": {},
   "outputs": [],
   "source": [
    "## drop date columns\n",
    "train_data = train_data.drop([\"Discharge_date\",\"Admission_date\"],axis=1)\n",
    "test_data = test_data.drop([\"Discharge_date\",\"Admission_date\"],axis=1)"
   ]
  },
  {
   "cell_type": "code",
   "execution_count": 31,
   "metadata": {
    "scrolled": true
   },
   "outputs": [
    {
     "data": {
      "text/html": [
       "<div>\n",
       "<style scoped>\n",
       "    .dataframe tbody tr th:only-of-type {\n",
       "        vertical-align: middle;\n",
       "    }\n",
       "\n",
       "    .dataframe tbody tr th {\n",
       "        vertical-align: top;\n",
       "    }\n",
       "\n",
       "    .dataframe thead th {\n",
       "        text-align: right;\n",
       "    }\n",
       "</style>\n",
       "<table border=\"1\" class=\"dataframe\">\n",
       "  <thead>\n",
       "    <tr style=\"text-align: right;\">\n",
       "      <th></th>\n",
       "      <th>patientID</th>\n",
       "      <th>num_procedures</th>\n",
       "      <th>num_medications</th>\n",
       "      <th>num_diagnoses</th>\n",
       "      <th>max_glu_serum</th>\n",
       "      <th>A1Cresult</th>\n",
       "      <th>metformin</th>\n",
       "      <th>repaglinide</th>\n",
       "      <th>nateglinide</th>\n",
       "      <th>chlorpropamide</th>\n",
       "      <th>glimepiride</th>\n",
       "      <th>glipizide</th>\n",
       "      <th>glyburide</th>\n",
       "      <th>tolbutamide</th>\n",
       "      <th>pioglitazone</th>\n",
       "      <th>rosiglitazone</th>\n",
       "      <th>acarbose</th>\n",
       "      <th>miglitol</th>\n",
       "      <th>troglitazone</th>\n",
       "      <th>tolazamide</th>\n",
       "      <th>insulin</th>\n",
       "      <th>glyburide.metformin</th>\n",
       "      <th>glipizide.metformin</th>\n",
       "      <th>metformin.pioglitazone</th>\n",
       "      <th>change</th>\n",
       "      <th>diabetesMed</th>\n",
       "      <th>admission_type_id</th>\n",
       "      <th>admission_source_id</th>\n",
       "      <th>race</th>\n",
       "      <th>gender</th>\n",
       "      <th>age</th>\n",
       "      <th>Target</th>\n",
       "      <th>admission_days</th>\n",
       "      <th>admission_month</th>\n",
       "    </tr>\n",
       "  </thead>\n",
       "  <tbody>\n",
       "    <tr>\n",
       "      <th>0</th>\n",
       "      <td>PT456611</td>\n",
       "      <td>0</td>\n",
       "      <td>11</td>\n",
       "      <td>9</td>\n",
       "      <td>None</td>\n",
       "      <td>None</td>\n",
       "      <td>No</td>\n",
       "      <td>No</td>\n",
       "      <td>No</td>\n",
       "      <td>No</td>\n",
       "      <td>No</td>\n",
       "      <td>No</td>\n",
       "      <td>No</td>\n",
       "      <td>No</td>\n",
       "      <td>No</td>\n",
       "      <td>Steady</td>\n",
       "      <td>No</td>\n",
       "      <td>No</td>\n",
       "      <td>No</td>\n",
       "      <td>No</td>\n",
       "      <td>Steady</td>\n",
       "      <td>No</td>\n",
       "      <td>No</td>\n",
       "      <td>No</td>\n",
       "      <td>Ch</td>\n",
       "      <td>Yes</td>\n",
       "      <td>1</td>\n",
       "      <td>1</td>\n",
       "      <td>type3</td>\n",
       "      <td>Female</td>\n",
       "      <td>95.0</td>\n",
       "      <td>No</td>\n",
       "      <td>3</td>\n",
       "      <td>5</td>\n",
       "    </tr>\n",
       "    <tr>\n",
       "      <th>1</th>\n",
       "      <td>PT956824</td>\n",
       "      <td>1</td>\n",
       "      <td>6</td>\n",
       "      <td>6</td>\n",
       "      <td>None</td>\n",
       "      <td>None</td>\n",
       "      <td>No</td>\n",
       "      <td>No</td>\n",
       "      <td>No</td>\n",
       "      <td>No</td>\n",
       "      <td>No</td>\n",
       "      <td>No</td>\n",
       "      <td>No</td>\n",
       "      <td>No</td>\n",
       "      <td>No</td>\n",
       "      <td>No</td>\n",
       "      <td>No</td>\n",
       "      <td>No</td>\n",
       "      <td>No</td>\n",
       "      <td>No</td>\n",
       "      <td>No</td>\n",
       "      <td>No</td>\n",
       "      <td>No</td>\n",
       "      <td>No</td>\n",
       "      <td>No</td>\n",
       "      <td>No</td>\n",
       "      <td>1</td>\n",
       "      <td>7</td>\n",
       "      <td>type1</td>\n",
       "      <td>Male</td>\n",
       "      <td>55.0</td>\n",
       "      <td>Yes</td>\n",
       "      <td>3</td>\n",
       "      <td>2</td>\n",
       "    </tr>\n",
       "    <tr>\n",
       "      <th>2</th>\n",
       "      <td>PT453330</td>\n",
       "      <td>2</td>\n",
       "      <td>27</td>\n",
       "      <td>9</td>\n",
       "      <td>None</td>\n",
       "      <td>None</td>\n",
       "      <td>No</td>\n",
       "      <td>No</td>\n",
       "      <td>No</td>\n",
       "      <td>No</td>\n",
       "      <td>No</td>\n",
       "      <td>No</td>\n",
       "      <td>No</td>\n",
       "      <td>No</td>\n",
       "      <td>No</td>\n",
       "      <td>No</td>\n",
       "      <td>No</td>\n",
       "      <td>No</td>\n",
       "      <td>No</td>\n",
       "      <td>No</td>\n",
       "      <td>No</td>\n",
       "      <td>No</td>\n",
       "      <td>No</td>\n",
       "      <td>No</td>\n",
       "      <td>No</td>\n",
       "      <td>No</td>\n",
       "      <td>1</td>\n",
       "      <td>7</td>\n",
       "      <td>type3</td>\n",
       "      <td>Female</td>\n",
       "      <td>85.0</td>\n",
       "      <td>No</td>\n",
       "      <td>3</td>\n",
       "      <td>6</td>\n",
       "    </tr>\n",
       "    <tr>\n",
       "      <th>3</th>\n",
       "      <td>PT677563</td>\n",
       "      <td>3</td>\n",
       "      <td>10</td>\n",
       "      <td>5</td>\n",
       "      <td>None</td>\n",
       "      <td>None</td>\n",
       "      <td>No</td>\n",
       "      <td>No</td>\n",
       "      <td>No</td>\n",
       "      <td>No</td>\n",
       "      <td>No</td>\n",
       "      <td>No</td>\n",
       "      <td>No</td>\n",
       "      <td>No</td>\n",
       "      <td>No</td>\n",
       "      <td>No</td>\n",
       "      <td>No</td>\n",
       "      <td>No</td>\n",
       "      <td>No</td>\n",
       "      <td>No</td>\n",
       "      <td>Steady</td>\n",
       "      <td>No</td>\n",
       "      <td>No</td>\n",
       "      <td>No</td>\n",
       "      <td>No</td>\n",
       "      <td>Yes</td>\n",
       "      <td>2</td>\n",
       "      <td>1</td>\n",
       "      <td>type3</td>\n",
       "      <td>Female</td>\n",
       "      <td>55.0</td>\n",
       "      <td>No</td>\n",
       "      <td>2</td>\n",
       "      <td>12</td>\n",
       "    </tr>\n",
       "    <tr>\n",
       "      <th>4</th>\n",
       "      <td>PT102924</td>\n",
       "      <td>6</td>\n",
       "      <td>12</td>\n",
       "      <td>9</td>\n",
       "      <td>None</td>\n",
       "      <td>None</td>\n",
       "      <td>No</td>\n",
       "      <td>No</td>\n",
       "      <td>No</td>\n",
       "      <td>No</td>\n",
       "      <td>No</td>\n",
       "      <td>No</td>\n",
       "      <td>No</td>\n",
       "      <td>No</td>\n",
       "      <td>No</td>\n",
       "      <td>No</td>\n",
       "      <td>No</td>\n",
       "      <td>No</td>\n",
       "      <td>No</td>\n",
       "      <td>No</td>\n",
       "      <td>No</td>\n",
       "      <td>No</td>\n",
       "      <td>No</td>\n",
       "      <td>No</td>\n",
       "      <td>No</td>\n",
       "      <td>No</td>\n",
       "      <td>3</td>\n",
       "      <td>1</td>\n",
       "      <td>type3</td>\n",
       "      <td>Male</td>\n",
       "      <td>65.0</td>\n",
       "      <td>Yes</td>\n",
       "      <td>1</td>\n",
       "      <td>8</td>\n",
       "    </tr>\n",
       "  </tbody>\n",
       "</table>\n",
       "</div>"
      ],
      "text/plain": [
       "  patientID  num_procedures  num_medications  num_diagnoses max_glu_serum  \\\n",
       "0  PT456611               0               11              9          None   \n",
       "1  PT956824               1                6              6          None   \n",
       "2  PT453330               2               27              9          None   \n",
       "3  PT677563               3               10              5          None   \n",
       "4  PT102924               6               12              9          None   \n",
       "\n",
       "  A1Cresult metformin repaglinide nateglinide chlorpropamide glimepiride  \\\n",
       "0      None        No          No          No             No          No   \n",
       "1      None        No          No          No             No          No   \n",
       "2      None        No          No          No             No          No   \n",
       "3      None        No          No          No             No          No   \n",
       "4      None        No          No          No             No          No   \n",
       "\n",
       "  glipizide glyburide tolbutamide pioglitazone rosiglitazone acarbose  \\\n",
       "0        No        No          No           No        Steady       No   \n",
       "1        No        No          No           No            No       No   \n",
       "2        No        No          No           No            No       No   \n",
       "3        No        No          No           No            No       No   \n",
       "4        No        No          No           No            No       No   \n",
       "\n",
       "  miglitol troglitazone tolazamide insulin glyburide.metformin  \\\n",
       "0       No           No         No  Steady                  No   \n",
       "1       No           No         No      No                  No   \n",
       "2       No           No         No      No                  No   \n",
       "3       No           No         No  Steady                  No   \n",
       "4       No           No         No      No                  No   \n",
       "\n",
       "  glipizide.metformin metformin.pioglitazone change diabetesMed  \\\n",
       "0                  No                     No     Ch         Yes   \n",
       "1                  No                     No     No          No   \n",
       "2                  No                     No     No          No   \n",
       "3                  No                     No     No         Yes   \n",
       "4                  No                     No     No          No   \n",
       "\n",
       "   admission_type_id  admission_source_id   race  gender   age Target  \\\n",
       "0                  1                    1  type3  Female  95.0     No   \n",
       "1                  1                    7  type1    Male  55.0    Yes   \n",
       "2                  1                    7  type3  Female  85.0     No   \n",
       "3                  2                    1  type3  Female  55.0     No   \n",
       "4                  3                    1  type3    Male  65.0    Yes   \n",
       "\n",
       "   admission_days  admission_month  \n",
       "0               3                5  \n",
       "1               3                2  \n",
       "2               3                6  \n",
       "3               2               12  \n",
       "4               1                8  "
      ]
     },
     "execution_count": 31,
     "metadata": {},
     "output_type": "execute_result"
    }
   ],
   "source": [
    "train_data.head()"
   ]
  },
  {
   "cell_type": "code",
   "execution_count": 32,
   "metadata": {},
   "outputs": [
    {
     "data": {
      "text/html": [
       "<div>\n",
       "<style scoped>\n",
       "    .dataframe tbody tr th:only-of-type {\n",
       "        vertical-align: middle;\n",
       "    }\n",
       "\n",
       "    .dataframe tbody tr th {\n",
       "        vertical-align: top;\n",
       "    }\n",
       "\n",
       "    .dataframe thead th {\n",
       "        text-align: right;\n",
       "    }\n",
       "</style>\n",
       "<table border=\"1\" class=\"dataframe\">\n",
       "  <thead>\n",
       "    <tr style=\"text-align: right;\">\n",
       "      <th></th>\n",
       "      <th>num_procedures</th>\n",
       "      <th>num_medications</th>\n",
       "      <th>num_diagnoses</th>\n",
       "      <th>admission_type_id</th>\n",
       "      <th>admission_source_id</th>\n",
       "      <th>age</th>\n",
       "      <th>admission_days</th>\n",
       "      <th>admission_month</th>\n",
       "    </tr>\n",
       "  </thead>\n",
       "  <tbody>\n",
       "    <tr>\n",
       "      <th>count</th>\n",
       "      <td>24256.000000</td>\n",
       "      <td>24256.000000</td>\n",
       "      <td>24256.000000</td>\n",
       "      <td>24256.000000</td>\n",
       "      <td>24256.000000</td>\n",
       "      <td>24256.000000</td>\n",
       "      <td>24256.000000</td>\n",
       "      <td>24256.000000</td>\n",
       "    </tr>\n",
       "    <tr>\n",
       "      <th>mean</th>\n",
       "      <td>1.449579</td>\n",
       "      <td>15.549349</td>\n",
       "      <td>7.126154</td>\n",
       "      <td>2.088679</td>\n",
       "      <td>5.515213</td>\n",
       "      <td>65.196240</td>\n",
       "      <td>4.218379</td>\n",
       "      <td>5.889965</td>\n",
       "    </tr>\n",
       "    <tr>\n",
       "      <th>std</th>\n",
       "      <td>1.759977</td>\n",
       "      <td>8.479033</td>\n",
       "      <td>2.039700</td>\n",
       "      <td>1.474979</td>\n",
       "      <td>4.109902</td>\n",
       "      <td>16.331782</td>\n",
       "      <td>2.926956</td>\n",
       "      <td>3.395738</td>\n",
       "    </tr>\n",
       "    <tr>\n",
       "      <th>min</th>\n",
       "      <td>0.000000</td>\n",
       "      <td>1.000000</td>\n",
       "      <td>1.000000</td>\n",
       "      <td>1.000000</td>\n",
       "      <td>1.000000</td>\n",
       "      <td>5.000000</td>\n",
       "      <td>1.000000</td>\n",
       "      <td>1.000000</td>\n",
       "    </tr>\n",
       "    <tr>\n",
       "      <th>25%</th>\n",
       "      <td>0.000000</td>\n",
       "      <td>10.000000</td>\n",
       "      <td>5.000000</td>\n",
       "      <td>1.000000</td>\n",
       "      <td>1.000000</td>\n",
       "      <td>55.000000</td>\n",
       "      <td>2.000000</td>\n",
       "      <td>3.000000</td>\n",
       "    </tr>\n",
       "    <tr>\n",
       "      <th>50%</th>\n",
       "      <td>1.000000</td>\n",
       "      <td>14.000000</td>\n",
       "      <td>8.000000</td>\n",
       "      <td>1.000000</td>\n",
       "      <td>7.000000</td>\n",
       "      <td>65.000000</td>\n",
       "      <td>3.000000</td>\n",
       "      <td>5.000000</td>\n",
       "    </tr>\n",
       "    <tr>\n",
       "      <th>75%</th>\n",
       "      <td>2.000000</td>\n",
       "      <td>20.000000</td>\n",
       "      <td>9.000000</td>\n",
       "      <td>3.000000</td>\n",
       "      <td>7.000000</td>\n",
       "      <td>75.000000</td>\n",
       "      <td>6.000000</td>\n",
       "      <td>9.000000</td>\n",
       "    </tr>\n",
       "    <tr>\n",
       "      <th>max</th>\n",
       "      <td>6.000000</td>\n",
       "      <td>81.000000</td>\n",
       "      <td>16.000000</td>\n",
       "      <td>8.000000</td>\n",
       "      <td>25.000000</td>\n",
       "      <td>95.000000</td>\n",
       "      <td>14.000000</td>\n",
       "      <td>12.000000</td>\n",
       "    </tr>\n",
       "  </tbody>\n",
       "</table>\n",
       "</div>"
      ],
      "text/plain": [
       "       num_procedures  num_medications  num_diagnoses  admission_type_id  \\\n",
       "count    24256.000000     24256.000000   24256.000000       24256.000000   \n",
       "mean         1.449579        15.549349       7.126154           2.088679   \n",
       "std          1.759977         8.479033       2.039700           1.474979   \n",
       "min          0.000000         1.000000       1.000000           1.000000   \n",
       "25%          0.000000        10.000000       5.000000           1.000000   \n",
       "50%          1.000000        14.000000       8.000000           1.000000   \n",
       "75%          2.000000        20.000000       9.000000           3.000000   \n",
       "max          6.000000        81.000000      16.000000           8.000000   \n",
       "\n",
       "       admission_source_id           age  admission_days  admission_month  \n",
       "count         24256.000000  24256.000000    24256.000000     24256.000000  \n",
       "mean              5.515213     65.196240        4.218379         5.889965  \n",
       "std               4.109902     16.331782        2.926956         3.395738  \n",
       "min               1.000000      5.000000        1.000000         1.000000  \n",
       "25%               1.000000     55.000000        2.000000         3.000000  \n",
       "50%               7.000000     65.000000        3.000000         5.000000  \n",
       "75%               7.000000     75.000000        6.000000         9.000000  \n",
       "max              25.000000     95.000000       14.000000        12.000000  "
      ]
     },
     "execution_count": 32,
     "metadata": {},
     "output_type": "execute_result"
    }
   ],
   "source": [
    "train_data.describe()"
   ]
  },
  {
   "cell_type": "code",
   "execution_count": 33,
   "metadata": {},
   "outputs": [
    {
     "data": {
      "text/html": [
       "<div>\n",
       "<style scoped>\n",
       "    .dataframe tbody tr th:only-of-type {\n",
       "        vertical-align: middle;\n",
       "    }\n",
       "\n",
       "    .dataframe tbody tr th {\n",
       "        vertical-align: top;\n",
       "    }\n",
       "\n",
       "    .dataframe thead th {\n",
       "        text-align: right;\n",
       "    }\n",
       "</style>\n",
       "<table border=\"1\" class=\"dataframe\">\n",
       "  <thead>\n",
       "    <tr style=\"text-align: right;\">\n",
       "      <th></th>\n",
       "      <th>num_procedures</th>\n",
       "      <th>num_medications</th>\n",
       "      <th>num_diagnoses</th>\n",
       "      <th>admission_type_id</th>\n",
       "      <th>admission_source_id</th>\n",
       "      <th>age</th>\n",
       "      <th>admission_days</th>\n",
       "      <th>admission_month</th>\n",
       "    </tr>\n",
       "  </thead>\n",
       "  <tbody>\n",
       "    <tr>\n",
       "      <th>num_procedures</th>\n",
       "      <td>1.000000</td>\n",
       "      <td>0.418478</td>\n",
       "      <td>0.082258</td>\n",
       "      <td>0.139459</td>\n",
       "      <td>-0.148870</td>\n",
       "      <td>-0.027439</td>\n",
       "      <td>0.189646</td>\n",
       "      <td>0.003732</td>\n",
       "    </tr>\n",
       "    <tr>\n",
       "      <th>num_medications</th>\n",
       "      <td>0.418478</td>\n",
       "      <td>1.000000</td>\n",
       "      <td>0.254275</td>\n",
       "      <td>0.108740</td>\n",
       "      <td>-0.087784</td>\n",
       "      <td>0.063322</td>\n",
       "      <td>0.474069</td>\n",
       "      <td>0.006076</td>\n",
       "    </tr>\n",
       "    <tr>\n",
       "      <th>num_diagnoses</th>\n",
       "      <td>0.082258</td>\n",
       "      <td>0.254275</td>\n",
       "      <td>1.000000</td>\n",
       "      <td>-0.094960</td>\n",
       "      <td>0.073469</td>\n",
       "      <td>0.274177</td>\n",
       "      <td>0.238436</td>\n",
       "      <td>-0.004335</td>\n",
       "    </tr>\n",
       "    <tr>\n",
       "      <th>admission_type_id</th>\n",
       "      <td>0.139459</td>\n",
       "      <td>0.108740</td>\n",
       "      <td>-0.094960</td>\n",
       "      <td>1.000000</td>\n",
       "      <td>0.088406</td>\n",
       "      <td>-0.015595</td>\n",
       "      <td>-0.020635</td>\n",
       "      <td>0.003677</td>\n",
       "    </tr>\n",
       "    <tr>\n",
       "      <th>admission_source_id</th>\n",
       "      <td>-0.148870</td>\n",
       "      <td>-0.087784</td>\n",
       "      <td>0.073469</td>\n",
       "      <td>0.088406</td>\n",
       "      <td>1.000000</td>\n",
       "      <td>0.049125</td>\n",
       "      <td>0.000099</td>\n",
       "      <td>0.004494</td>\n",
       "    </tr>\n",
       "    <tr>\n",
       "      <th>age</th>\n",
       "      <td>-0.027439</td>\n",
       "      <td>0.063322</td>\n",
       "      <td>0.274177</td>\n",
       "      <td>-0.015595</td>\n",
       "      <td>0.049125</td>\n",
       "      <td>1.000000</td>\n",
       "      <td>0.141171</td>\n",
       "      <td>-0.004071</td>\n",
       "    </tr>\n",
       "    <tr>\n",
       "      <th>admission_days</th>\n",
       "      <td>0.189646</td>\n",
       "      <td>0.474069</td>\n",
       "      <td>0.238436</td>\n",
       "      <td>-0.020635</td>\n",
       "      <td>0.000099</td>\n",
       "      <td>0.141171</td>\n",
       "      <td>1.000000</td>\n",
       "      <td>-0.004945</td>\n",
       "    </tr>\n",
       "    <tr>\n",
       "      <th>admission_month</th>\n",
       "      <td>0.003732</td>\n",
       "      <td>0.006076</td>\n",
       "      <td>-0.004335</td>\n",
       "      <td>0.003677</td>\n",
       "      <td>0.004494</td>\n",
       "      <td>-0.004071</td>\n",
       "      <td>-0.004945</td>\n",
       "      <td>1.000000</td>\n",
       "    </tr>\n",
       "  </tbody>\n",
       "</table>\n",
       "</div>"
      ],
      "text/plain": [
       "                     num_procedures  num_medications  num_diagnoses  \\\n",
       "num_procedures             1.000000         0.418478       0.082258   \n",
       "num_medications            0.418478         1.000000       0.254275   \n",
       "num_diagnoses              0.082258         0.254275       1.000000   \n",
       "admission_type_id          0.139459         0.108740      -0.094960   \n",
       "admission_source_id       -0.148870        -0.087784       0.073469   \n",
       "age                       -0.027439         0.063322       0.274177   \n",
       "admission_days             0.189646         0.474069       0.238436   \n",
       "admission_month            0.003732         0.006076      -0.004335   \n",
       "\n",
       "                     admission_type_id  admission_source_id       age  \\\n",
       "num_procedures                0.139459            -0.148870 -0.027439   \n",
       "num_medications               0.108740            -0.087784  0.063322   \n",
       "num_diagnoses                -0.094960             0.073469  0.274177   \n",
       "admission_type_id             1.000000             0.088406 -0.015595   \n",
       "admission_source_id           0.088406             1.000000  0.049125   \n",
       "age                          -0.015595             0.049125  1.000000   \n",
       "admission_days               -0.020635             0.000099  0.141171   \n",
       "admission_month               0.003677             0.004494 -0.004071   \n",
       "\n",
       "                     admission_days  admission_month  \n",
       "num_procedures             0.189646         0.003732  \n",
       "num_medications            0.474069         0.006076  \n",
       "num_diagnoses              0.238436        -0.004335  \n",
       "admission_type_id         -0.020635         0.003677  \n",
       "admission_source_id        0.000099         0.004494  \n",
       "age                        0.141171        -0.004071  \n",
       "admission_days             1.000000        -0.004945  \n",
       "admission_month           -0.004945         1.000000  "
      ]
     },
     "execution_count": 33,
     "metadata": {},
     "output_type": "execute_result"
    }
   ],
   "source": [
    "train_data.corr()"
   ]
  },
  {
   "cell_type": "markdown",
   "metadata": {},
   "source": [
    "#### There is no considerable correlation between the columns. So we do not drop any of the columns"
   ]
  },
  {
   "cell_type": "code",
   "execution_count": 34,
   "metadata": {},
   "outputs": [
    {
     "data": {
      "text/plain": [
       "Text(0.5, 1.0, 'Distribution of gender')"
      ]
     },
     "execution_count": 34,
     "metadata": {},
     "output_type": "execute_result"
    },
    {
     "data": {
      "image/png": "[encoded data removed]",
      "text/plain": [
       "<Figure size 432x288 with 1 Axes>"
      ]
     },
     "metadata": {
      "needs_background": "light"
     },
     "output_type": "display_data"
    }
   ],
   "source": [
    "sns.countplot(train_data[\"gender\"]).set_title(\"Distribution of gender\")"
   ]
  },
  {
   "cell_type": "code",
   "execution_count": 35,
   "metadata": {},
   "outputs": [
    {
     "data": {
      "text/plain": [
       "Text(0.5, 1.0, 'Gender VS. Target')"
      ]
     },
     "execution_count": 35,
     "metadata": {},
     "output_type": "execute_result"
    },
    {
     "data": {
      "image/png": "[encoded data removed]",
      "text/plain": [
       "<Figure size 864x576 with 1 Axes>"
      ]
     },
     "metadata": {
      "needs_background": "light"
     },
     "output_type": "display_data"
    }
   ],
   "source": [
    "fig = plt.figure(figsize=(12,8))\n",
    "sns.countplot(x= train_data[\"gender\"], hue = train_data['Target']).set_title('Gender VS. Target')"
   ]
  },
  {
   "cell_type": "code",
   "execution_count": 36,
   "metadata": {
    "scrolled": false
   },
   "outputs": [
    {
     "data": {
      "text/plain": [
       "75.0    24.703166\n",
       "65.0    22.122361\n",
       "55.0    17.628628\n",
       "85.0    15.604387\n",
       "45.0     9.939809\n",
       "35.0     4.238127\n",
       "95.0     2.951847\n",
       "25.0     1.739776\n",
       "15.0     0.808047\n",
       "5.0      0.263852\n",
       "Name: age, dtype: float64"
      ]
     },
     "execution_count": 36,
     "metadata": {},
     "output_type": "execute_result"
    }
   ],
   "source": [
    "(train_data[\"age\"].value_counts())/train_data.shape[0] * 100"
   ]
  },
  {
   "cell_type": "code",
   "execution_count": 37,
   "metadata": {},
   "outputs": [
    {
     "data": {
      "text/plain": [
       "Text(0.5, 1.0, 'Distribution of Age')"
      ]
     },
     "execution_count": 37,
     "metadata": {},
     "output_type": "execute_result"
    },
    {
     "data": {
      "image/png": "[encoded data removed]",
      "text/plain": [
       "<Figure size 864x576 with 1 Axes>"
      ]
     },
     "metadata": {
      "needs_background": "light"
     },
     "output_type": "display_data"
    }
   ],
   "source": [
    "fig = plt.figure(figsize=(12,8))\n",
    "sns.countplot(train_data[\"age\"]).set_title(\"Distribution of Age\")"
   ]
  },
  {
   "cell_type": "code",
   "execution_count": 38,
   "metadata": {},
   "outputs": [
    {
     "data": {
      "text/plain": [
       "Text(0.5, 1.0, 'Age VS. Target')"
      ]
     },
     "execution_count": 38,
     "metadata": {},
     "output_type": "execute_result"
    },
    {
     "data": {
      "image/png": "[encoded data removed]",
      "text/plain": [
       "<Figure size 864x576 with 1 Axes>"
      ]
     },
     "metadata": {
      "needs_background": "light"
     },
     "output_type": "display_data"
    }
   ],
   "source": [
    "fig = plt.figure(figsize=(12,8))\n",
    "sns.countplot(x= train_data[\"age\"], hue = train_data['Target']).set_title('Age VS. Target')"
   ]
  },
  {
   "cell_type": "markdown",
   "metadata": {},
   "source": [
    "#### 24.7% of people sufferening from Diabetes belong to 70-80 age group"
   ]
  },
  {
   "cell_type": "code",
   "execution_count": 39,
   "metadata": {},
   "outputs": [
    {
     "data": {
      "text/plain": [
       "type3    74.018799\n",
       "type1    18.061511\n",
       "type4     5.433707\n",
       "type5     1.768635\n",
       "type2     0.717348\n",
       "Name: race, dtype: float64"
      ]
     },
     "execution_count": 39,
     "metadata": {},
     "output_type": "execute_result"
    }
   ],
   "source": [
    "(train_data[\"race\"].value_counts())/train_data.shape[0] * 100"
   ]
  },
  {
   "cell_type": "code",
   "execution_count": 40,
   "metadata": {},
   "outputs": [
    {
     "data": {
      "text/plain": [
       "Text(0.5, 1.0, 'Distribution of Race')"
      ]
     },
     "execution_count": 40,
     "metadata": {},
     "output_type": "execute_result"
    },
    {
     "data": {
      "image/png": "[encoded data removed]",
      "text/plain": [
       "<Figure size 720x576 with 1 Axes>"
      ]
     },
     "metadata": {
      "needs_background": "light"
     },
     "output_type": "display_data"
    }
   ],
   "source": [
    "fig = plt.figure(figsize=(10,8))\n",
    "sns.countplot(train_data[\"race\"]).set_title(\"Distribution of Race\")"
   ]
  },
  {
   "cell_type": "code",
   "execution_count": 41,
   "metadata": {},
   "outputs": [
    {
     "data": {
      "text/plain": [
       "Text(0.5, 1.0, 'Race VS. Target')"
      ]
     },
     "execution_count": 41,
     "metadata": {},
     "output_type": "execute_result"
    },
    {
     "data": {
      "image/png": "[encoded data removed]",
      "text/plain": [
       "<Figure size 720x576 with 1 Axes>"
      ]
     },
     "metadata": {
      "needs_background": "light"
     },
     "output_type": "display_data"
    }
   ],
   "source": [
    "fig = plt.figure(figsize=(10,8))\n",
    "sns.countplot(x= train_data[\"race\"], hue = train_data['Target']).set_title('Race VS. Target')"
   ]
  },
  {
   "cell_type": "markdown",
   "metadata": {},
   "source": [
    "#### 74% of the people suffering from Diabetes belong to type3 race"
   ]
  },
  {
   "cell_type": "code",
   "execution_count": 42,
   "metadata": {},
   "outputs": [
    {
     "data": {
      "text/plain": [
       "No     73.326187\n",
       "Yes    26.673813\n",
       "Name: Target, dtype: float64"
      ]
     },
     "execution_count": 42,
     "metadata": {},
     "output_type": "execute_result"
    }
   ],
   "source": [
    "(train_data[\"Target\"].value_counts())/train_data.shape[0] * 100"
   ]
  },
  {
   "cell_type": "code",
   "execution_count": 43,
   "metadata": {},
   "outputs": [
    {
     "data": {
      "text/plain": [
       "<matplotlib.axes._subplots.AxesSubplot at 0x1a93ccd8cf8>"
      ]
     },
     "execution_count": 43,
     "metadata": {},
     "output_type": "execute_result"
    },
    {
     "data": {
      "image/png": "[encoded data removed]",
      "text/plain": [
       "<Figure size 432x288 with 1 Axes>"
      ]
     },
     "metadata": {
      "needs_background": "light"
     },
     "output_type": "display_data"
    }
   ],
   "source": [
    "sns.countplot(train_data[\"Target\"])"
   ]
  },
  {
   "cell_type": "markdown",
   "metadata": {},
   "source": [
    "#### 26% of the total patients are readmitted"
   ]
  },
  {
   "cell_type": "code",
   "execution_count": 44,
   "metadata": {},
   "outputs": [
    {
     "data": {
      "text/plain": [
       "7     51.467678\n",
       "1     31.785950\n",
       "17     6.460257\n",
       "4      4.262863\n",
       "6      3.166227\n",
       "2      1.422328\n",
       "5      0.820416\n",
       "9      0.193766\n",
       "3      0.189644\n",
       "20     0.185521\n",
       "10     0.012368\n",
       "8      0.012368\n",
       "22     0.008245\n",
       "14     0.004123\n",
       "13     0.004123\n",
       "25     0.004123\n",
       "Name: admission_source_id, dtype: float64"
      ]
     },
     "execution_count": 44,
     "metadata": {},
     "output_type": "execute_result"
    }
   ],
   "source": [
    "(train_data[\"admission_source_id\"].value_counts())/train_data.shape[0] * 100"
   ]
  },
  {
   "cell_type": "code",
   "execution_count": 45,
   "metadata": {},
   "outputs": [
    {
     "data": {
      "text/plain": [
       "Text(0.5, 1.0, 'Distribution of Admission Source')"
      ]
     },
     "execution_count": 45,
     "metadata": {},
     "output_type": "execute_result"
    },
    {
     "data": {
      "image/png": "[encoded data removed]",
      "text/plain": [
       "<Figure size 864x576 with 1 Axes>"
      ]
     },
     "metadata": {
      "needs_background": "light"
     },
     "output_type": "display_data"
    }
   ],
   "source": [
    "fig = plt.figure(figsize=(12,8))\n",
    "sns.countplot(train_data[\"admission_source_id\"]).set_title('Distribution of Admission Source')"
   ]
  },
  {
   "cell_type": "code",
   "execution_count": 46,
   "metadata": {},
   "outputs": [
    {
     "data": {
      "text/plain": [
       "Text(0.5, 1.0, 'Admission Source VS. Target')"
      ]
     },
     "execution_count": 46,
     "metadata": {},
     "output_type": "execute_result"
    },
    {
     "data": {
      "image/png": "[encoded data removed]",
      "text/plain": [
       "<Figure size 720x576 with 1 Axes>"
      ]
     },
     "metadata": {
      "needs_background": "light"
     },
     "output_type": "display_data"
    }
   ],
   "source": [
    "fig = plt.figure(figsize=(10,8))\n",
    "sns.countplot(x= train_data[\"admission_source_id\"], hue = train_data['Target']).set_title('Admission Source VS. Target')"
   ]
  },
  {
   "cell_type": "markdown",
   "metadata": {},
   "source": [
    "#### 82% of the patients are admitted through operational sections 7 and 1\n",
    "#### According to the above values, we can group source_ids (4,2) into group_1, (6,5,9,3,20,10,8,22,14,13,25) into group_2"
   ]
  },
  {
   "cell_type": "code",
   "execution_count": 47,
   "metadata": {
    "scrolled": true
   },
   "outputs": [
    {
     "data": {
      "text/plain": [
       "1    50.441128\n",
       "3    20.605211\n",
       "2    18.399571\n",
       "6     5.516161\n",
       "5     4.497856\n",
       "8     0.482355\n",
       "7     0.045350\n",
       "4     0.012368\n",
       "Name: admission_type_id, dtype: float64"
      ]
     },
     "execution_count": 47,
     "metadata": {},
     "output_type": "execute_result"
    }
   ],
   "source": [
    "(train_data[\"admission_type_id\"].value_counts())/train_data.shape[0] * 100"
   ]
  },
  {
   "cell_type": "code",
   "execution_count": 48,
   "metadata": {},
   "outputs": [
    {
     "data": {
      "text/plain": [
       "Text(0.5, 1.0, 'Distribution of Admission Type')"
      ]
     },
     "execution_count": 48,
     "metadata": {},
     "output_type": "execute_result"
    },
    {
     "data": {
      "image/png": "[encoded data removed]",
      "text/plain": [
       "<Figure size 864x576 with 1 Axes>"
      ]
     },
     "metadata": {
      "needs_background": "light"
     },
     "output_type": "display_data"
    }
   ],
   "source": [
    "fig = plt.figure(figsize=(12,8))\n",
    "sns.countplot(train_data[\"admission_type_id\"]).set_title('Distribution of Admission Type')"
   ]
  },
  {
   "cell_type": "markdown",
   "metadata": {},
   "source": [
    "#### >50% patients are admitted through type 1"
   ]
  },
  {
   "cell_type": "code",
   "execution_count": 49,
   "metadata": {
    "scrolled": false
   },
   "outputs": [
    {
     "data": {
      "text/plain": [
       "Text(0.5, 1.0, 'Admission Month VS. Target')"
      ]
     },
     "execution_count": 49,
     "metadata": {},
     "output_type": "execute_result"
    },
    {
     "data": {
      "image/png": "[encoded data removed]",
      "text/plain": [
       "<Figure size 864x576 with 1 Axes>"
      ]
     },
     "metadata": {
      "needs_background": "light"
     },
     "output_type": "display_data"
    }
   ],
   "source": [
    "fig = plt.figure(figsize=(12,8))\n",
    "sns.countplot(x= train_data[\"admission_month\"], hue = train_data['Target']).set_title('Admission Month VS. Target')"
   ]
  },
  {
   "cell_type": "code",
   "execution_count": 50,
   "metadata": {},
   "outputs": [
    {
     "data": {
      "text/plain": [
       "Text(0.5, 1.0, 'Admission Month VS. Target')"
      ]
     },
     "execution_count": 50,
     "metadata": {},
     "output_type": "execute_result"
    },
    {
     "data": {
      "image/png": "[encoded data removed]",
      "text/plain": [
       "<Figure size 864x576 with 1 Axes>"
      ]
     },
     "metadata": {
      "needs_background": "light"
     },
     "output_type": "display_data"
    }
   ],
   "source": [
    "fig = plt.figure(figsize=(12,8))\n",
    "sns.countplot(x= train_data[\"admission_days\"], hue = train_data['Target']).set_title('Admission Month VS. Target')"
   ]
  },
  {
   "cell_type": "code",
   "execution_count": 51,
   "metadata": {},
   "outputs": [
    {
     "data": {
      "text/plain": [
       "Text(0.5, 1.0, 'Change in Patient Treatment VS. Target')"
      ]
     },
     "execution_count": 51,
     "metadata": {},
     "output_type": "execute_result"
    },
    {
     "data": {
      "image/png": "[encoded data removed]",
      "text/plain": [
       "<Figure size 864x576 with 1 Axes>"
      ]
     },
     "metadata": {
      "needs_background": "light"
     },
     "output_type": "display_data"
    }
   ],
   "source": [
    "fig = plt.figure(figsize=(12,8))\n",
    "sns.countplot(x= train_data[\"change\"], hue = train_data['Target']).set_title('Change in Patient Treatment VS. Target')"
   ]
  },
  {
   "cell_type": "code",
   "execution_count": 52,
   "metadata": {
    "scrolled": false
   },
   "outputs": [
    {
     "data": {
      "text/plain": [
       "Text(0.5, 1.0, 'Number of medications VS. Target')"
      ]
     },
     "execution_count": 52,
     "metadata": {},
     "output_type": "execute_result"
    },
    {
     "data": {
      "image/png": "[encoded data removed]",
      "text/plain": [
       "<Figure size 1080x720 with 1 Axes>"
      ]
     },
     "metadata": {
      "needs_background": "light"
     },
     "output_type": "display_data"
    }
   ],
   "source": [
    "fig = plt.figure(figsize=(15,10))\n",
    "sns.countplot(x= train_data[\"num_medications\"], hue = train_data['Target']).set_title('Number of medications VS. Target')"
   ]
  },
  {
   "cell_type": "code",
   "execution_count": 53,
   "metadata": {},
   "outputs": [
    {
     "data": {
      "text/plain": [
       "Text(0.5, 1.0, 'A1Cresult VS. Target')"
      ]
     },
     "execution_count": 53,
     "metadata": {},
     "output_type": "execute_result"
    },
    {
     "data": {
      "image/png": "[encoded data removed]",
      "text/plain": [
       "<Figure size 864x576 with 1 Axes>"
      ]
     },
     "metadata": {
      "needs_background": "light"
     },
     "output_type": "display_data"
    }
   ],
   "source": [
    "fig = plt.figure(figsize=(12,8))\n",
    "sns.countplot(x= train_data[\"A1Cresult\"], hue = train_data['Target']).set_title('A1Cresult VS. Target')"
   ]
  },
  {
   "cell_type": "code",
   "execution_count": 54,
   "metadata": {},
   "outputs": [
    {
     "data": {
      "text/plain": [
       "Text(0.5, 1.0, 'A1Cresult VS. Target')"
      ]
     },
     "execution_count": 54,
     "metadata": {},
     "output_type": "execute_result"
    },
    {
     "data": {
      "image/png": "[encoded data removed]",
      "text/plain": [
       "<Figure size 864x576 with 1 Axes>"
      ]
     },
     "metadata": {
      "needs_background": "light"
     },
     "output_type": "display_data"
    }
   ],
   "source": [
    "fig = plt.figure(figsize=(12,8))\n",
    "sns.countplot(x= train_data[\"max_glu_serum\"], hue = train_data['Target']).set_title('A1Cresult VS. Target')"
   ]
  },
  {
   "cell_type": "markdown",
   "metadata": {},
   "source": [
    "#### Feature Engineering"
   ]
  },
  {
   "cell_type": "code",
   "execution_count": 55,
   "metadata": {},
   "outputs": [],
   "source": [
    "train_data[\"max_glu_serum\"] = train_data[\"max_glu_serum\"].replace(\"None\",-1)\n",
    "train_data[\"max_glu_serum\"] = train_data[\"max_glu_serum\"].replace(\">200\",1)\n",
    "train_data[\"max_glu_serum\"] = train_data[\"max_glu_serum\"].replace(\">300\",1)\n",
    "train_data[\"max_glu_serum\"] = train_data[\"max_glu_serum\"].replace(\"Norm\",0)\n",
    "\n",
    "train_data[\"A1Cresult\"] = train_data[\"A1Cresult\"].replace(\"None\",-1)\n",
    "train_data[\"A1Cresult\"] = train_data[\"A1Cresult\"].replace(\">8\",1)\n",
    "train_data[\"A1Cresult\"] = train_data[\"A1Cresult\"].replace(\">7\",1)\n",
    "train_data[\"A1Cresult\"] = train_data[\"A1Cresult\"].replace(\"Norm\",0)\n",
    "\n",
    "test_data[\"max_glu_serum\"] = test_data[\"max_glu_serum\"].replace(\"None\",-1)\n",
    "test_data[\"max_glu_serum\"] = test_data[\"max_glu_serum\"].replace(\">200\",1)\n",
    "test_data[\"max_glu_serum\"] = test_data[\"max_glu_serum\"].replace(\">300\",1)\n",
    "test_data[\"max_glu_serum\"] = test_data[\"max_glu_serum\"].replace(\"Norm\",0)\n",
    "\n",
    "test_data[\"A1Cresult\"] = test_data[\"A1Cresult\"].replace(\"None\",-1)\n",
    "test_data[\"A1Cresult\"] = test_data[\"A1Cresult\"].replace(\">8\",1)\n",
    "test_data[\"A1Cresult\"] = test_data[\"A1Cresult\"].replace(\">7\",1)\n",
    "test_data[\"A1Cresult\"] = test_data[\"A1Cresult\"].replace(\"Norm\",0)"
   ]
  },
  {
   "cell_type": "code",
   "execution_count": 56,
   "metadata": {},
   "outputs": [
    {
     "data": {
      "text/html": [
       "<div>\n",
       "<style scoped>\n",
       "    .dataframe tbody tr th:only-of-type {\n",
       "        vertical-align: middle;\n",
       "    }\n",
       "\n",
       "    .dataframe tbody tr th {\n",
       "        vertical-align: top;\n",
       "    }\n",
       "\n",
       "    .dataframe thead th {\n",
       "        text-align: right;\n",
       "    }\n",
       "</style>\n",
       "<table border=\"1\" class=\"dataframe\">\n",
       "  <thead>\n",
       "    <tr style=\"text-align: right;\">\n",
       "      <th></th>\n",
       "      <th>patientID</th>\n",
       "      <th>num_procedures</th>\n",
       "      <th>num_medications</th>\n",
       "      <th>num_diagnoses</th>\n",
       "      <th>max_glu_serum</th>\n",
       "      <th>A1Cresult</th>\n",
       "      <th>metformin</th>\n",
       "      <th>repaglinide</th>\n",
       "      <th>nateglinide</th>\n",
       "      <th>chlorpropamide</th>\n",
       "      <th>glimepiride</th>\n",
       "      <th>glipizide</th>\n",
       "      <th>glyburide</th>\n",
       "      <th>tolbutamide</th>\n",
       "      <th>pioglitazone</th>\n",
       "      <th>rosiglitazone</th>\n",
       "      <th>acarbose</th>\n",
       "      <th>miglitol</th>\n",
       "      <th>troglitazone</th>\n",
       "      <th>tolazamide</th>\n",
       "      <th>insulin</th>\n",
       "      <th>glyburide.metformin</th>\n",
       "      <th>glipizide.metformin</th>\n",
       "      <th>metformin.pioglitazone</th>\n",
       "      <th>change</th>\n",
       "      <th>diabetesMed</th>\n",
       "      <th>admission_type_id</th>\n",
       "      <th>admission_source_id</th>\n",
       "      <th>race</th>\n",
       "      <th>gender</th>\n",
       "      <th>age</th>\n",
       "      <th>Target</th>\n",
       "      <th>admission_days</th>\n",
       "      <th>admission_month</th>\n",
       "    </tr>\n",
       "  </thead>\n",
       "  <tbody>\n",
       "    <tr>\n",
       "      <th>0</th>\n",
       "      <td>PT456611</td>\n",
       "      <td>0</td>\n",
       "      <td>11</td>\n",
       "      <td>9</td>\n",
       "      <td>-1</td>\n",
       "      <td>-1</td>\n",
       "      <td>No</td>\n",
       "      <td>No</td>\n",
       "      <td>No</td>\n",
       "      <td>No</td>\n",
       "      <td>No</td>\n",
       "      <td>No</td>\n",
       "      <td>No</td>\n",
       "      <td>No</td>\n",
       "      <td>No</td>\n",
       "      <td>Steady</td>\n",
       "      <td>No</td>\n",
       "      <td>No</td>\n",
       "      <td>No</td>\n",
       "      <td>No</td>\n",
       "      <td>Steady</td>\n",
       "      <td>No</td>\n",
       "      <td>No</td>\n",
       "      <td>No</td>\n",
       "      <td>Ch</td>\n",
       "      <td>Yes</td>\n",
       "      <td>1</td>\n",
       "      <td>1</td>\n",
       "      <td>type3</td>\n",
       "      <td>Female</td>\n",
       "      <td>95.0</td>\n",
       "      <td>No</td>\n",
       "      <td>3</td>\n",
       "      <td>5</td>\n",
       "    </tr>\n",
       "    <tr>\n",
       "      <th>1</th>\n",
       "      <td>PT956824</td>\n",
       "      <td>1</td>\n",
       "      <td>6</td>\n",
       "      <td>6</td>\n",
       "      <td>-1</td>\n",
       "      <td>-1</td>\n",
       "      <td>No</td>\n",
       "      <td>No</td>\n",
       "      <td>No</td>\n",
       "      <td>No</td>\n",
       "      <td>No</td>\n",
       "      <td>No</td>\n",
       "      <td>No</td>\n",
       "      <td>No</td>\n",
       "      <td>No</td>\n",
       "      <td>No</td>\n",
       "      <td>No</td>\n",
       "      <td>No</td>\n",
       "      <td>No</td>\n",
       "      <td>No</td>\n",
       "      <td>No</td>\n",
       "      <td>No</td>\n",
       "      <td>No</td>\n",
       "      <td>No</td>\n",
       "      <td>No</td>\n",
       "      <td>No</td>\n",
       "      <td>1</td>\n",
       "      <td>7</td>\n",
       "      <td>type1</td>\n",
       "      <td>Male</td>\n",
       "      <td>55.0</td>\n",
       "      <td>Yes</td>\n",
       "      <td>3</td>\n",
       "      <td>2</td>\n",
       "    </tr>\n",
       "    <tr>\n",
       "      <th>2</th>\n",
       "      <td>PT453330</td>\n",
       "      <td>2</td>\n",
       "      <td>27</td>\n",
       "      <td>9</td>\n",
       "      <td>-1</td>\n",
       "      <td>-1</td>\n",
       "      <td>No</td>\n",
       "      <td>No</td>\n",
       "      <td>No</td>\n",
       "      <td>No</td>\n",
       "      <td>No</td>\n",
       "      <td>No</td>\n",
       "      <td>No</td>\n",
       "      <td>No</td>\n",
       "      <td>No</td>\n",
       "      <td>No</td>\n",
       "      <td>No</td>\n",
       "      <td>No</td>\n",
       "      <td>No</td>\n",
       "      <td>No</td>\n",
       "      <td>No</td>\n",
       "      <td>No</td>\n",
       "      <td>No</td>\n",
       "      <td>No</td>\n",
       "      <td>No</td>\n",
       "      <td>No</td>\n",
       "      <td>1</td>\n",
       "      <td>7</td>\n",
       "      <td>type3</td>\n",
       "      <td>Female</td>\n",
       "      <td>85.0</td>\n",
       "      <td>No</td>\n",
       "      <td>3</td>\n",
       "      <td>6</td>\n",
       "    </tr>\n",
       "    <tr>\n",
       "      <th>3</th>\n",
       "      <td>PT677563</td>\n",
       "      <td>3</td>\n",
       "      <td>10</td>\n",
       "      <td>5</td>\n",
       "      <td>-1</td>\n",
       "      <td>-1</td>\n",
       "      <td>No</td>\n",
       "      <td>No</td>\n",
       "      <td>No</td>\n",
       "      <td>No</td>\n",
       "      <td>No</td>\n",
       "      <td>No</td>\n",
       "      <td>No</td>\n",
       "      <td>No</td>\n",
       "      <td>No</td>\n",
       "      <td>No</td>\n",
       "      <td>No</td>\n",
       "      <td>No</td>\n",
       "      <td>No</td>\n",
       "      <td>No</td>\n",
       "      <td>Steady</td>\n",
       "      <td>No</td>\n",
       "      <td>No</td>\n",
       "      <td>No</td>\n",
       "      <td>No</td>\n",
       "      <td>Yes</td>\n",
       "      <td>2</td>\n",
       "      <td>1</td>\n",
       "      <td>type3</td>\n",
       "      <td>Female</td>\n",
       "      <td>55.0</td>\n",
       "      <td>No</td>\n",
       "      <td>2</td>\n",
       "      <td>12</td>\n",
       "    </tr>\n",
       "    <tr>\n",
       "      <th>4</th>\n",
       "      <td>PT102924</td>\n",
       "      <td>6</td>\n",
       "      <td>12</td>\n",
       "      <td>9</td>\n",
       "      <td>-1</td>\n",
       "      <td>-1</td>\n",
       "      <td>No</td>\n",
       "      <td>No</td>\n",
       "      <td>No</td>\n",
       "      <td>No</td>\n",
       "      <td>No</td>\n",
       "      <td>No</td>\n",
       "      <td>No</td>\n",
       "      <td>No</td>\n",
       "      <td>No</td>\n",
       "      <td>No</td>\n",
       "      <td>No</td>\n",
       "      <td>No</td>\n",
       "      <td>No</td>\n",
       "      <td>No</td>\n",
       "      <td>No</td>\n",
       "      <td>No</td>\n",
       "      <td>No</td>\n",
       "      <td>No</td>\n",
       "      <td>No</td>\n",
       "      <td>No</td>\n",
       "      <td>3</td>\n",
       "      <td>1</td>\n",
       "      <td>type3</td>\n",
       "      <td>Male</td>\n",
       "      <td>65.0</td>\n",
       "      <td>Yes</td>\n",
       "      <td>1</td>\n",
       "      <td>8</td>\n",
       "    </tr>\n",
       "  </tbody>\n",
       "</table>\n",
       "</div>"
      ],
      "text/plain": [
       "  patientID  num_procedures  num_medications  num_diagnoses  max_glu_serum  \\\n",
       "0  PT456611               0               11              9             -1   \n",
       "1  PT956824               1                6              6             -1   \n",
       "2  PT453330               2               27              9             -1   \n",
       "3  PT677563               3               10              5             -1   \n",
       "4  PT102924               6               12              9             -1   \n",
       "\n",
       "   A1Cresult metformin repaglinide nateglinide chlorpropamide glimepiride  \\\n",
       "0         -1        No          No          No             No          No   \n",
       "1         -1        No          No          No             No          No   \n",
       "2         -1        No          No          No             No          No   \n",
       "3         -1        No          No          No             No          No   \n",
       "4         -1        No          No          No             No          No   \n",
       "\n",
       "  glipizide glyburide tolbutamide pioglitazone rosiglitazone acarbose  \\\n",
       "0        No        No          No           No        Steady       No   \n",
       "1        No        No          No           No            No       No   \n",
       "2        No        No          No           No            No       No   \n",
       "3        No        No          No           No            No       No   \n",
       "4        No        No          No           No            No       No   \n",
       "\n",
       "  miglitol troglitazone tolazamide insulin glyburide.metformin  \\\n",
       "0       No           No         No  Steady                  No   \n",
       "1       No           No         No      No                  No   \n",
       "2       No           No         No      No                  No   \n",
       "3       No           No         No  Steady                  No   \n",
       "4       No           No         No      No                  No   \n",
       "\n",
       "  glipizide.metformin metformin.pioglitazone change diabetesMed  \\\n",
       "0                  No                     No     Ch         Yes   \n",
       "1                  No                     No     No          No   \n",
       "2                  No                     No     No          No   \n",
       "3                  No                     No     No         Yes   \n",
       "4                  No                     No     No          No   \n",
       "\n",
       "   admission_type_id  admission_source_id   race  gender   age Target  \\\n",
       "0                  1                    1  type3  Female  95.0     No   \n",
       "1                  1                    7  type1    Male  55.0    Yes   \n",
       "2                  1                    7  type3  Female  85.0     No   \n",
       "3                  2                    1  type3  Female  55.0     No   \n",
       "4                  3                    1  type3    Male  65.0    Yes   \n",
       "\n",
       "   admission_days  admission_month  \n",
       "0               3                5  \n",
       "1               3                2  \n",
       "2               3                6  \n",
       "3               2               12  \n",
       "4               1                8  "
      ]
     },
     "execution_count": 56,
     "metadata": {},
     "output_type": "execute_result"
    }
   ],
   "source": [
    "train_data.head()"
   ]
  },
  {
   "cell_type": "code",
   "execution_count": 57,
   "metadata": {
    "scrolled": true
   },
   "outputs": [],
   "source": [
    "med_columns = [\"metformin\", \"repaglinide\", \"nateglinide\",\n",
    "       \"chlorpropamide\", \"glimepiride\", \"glipizide\",\n",
    "       \"glyburide\", \"tolbutamide\", \"pioglitazone\", \"rosiglitazone\", \"acarbose\",\n",
    "       \"miglitol\", \"troglitazone\", \"tolazamide\", \"insulin\",\n",
    "       \"glyburide.metformin\", \"glipizide.metformin\",\"metformin.pioglitazone\"]\n",
    "\n",
    "#train_data[\"gender\"] = train_data[\"gender\"].replace(\"Male\", 1)\n",
    "#train_data[\"gender\"] = train_data[\"gender\"].replace(\"Female\", 0)\n",
    "train_data[\"change\"] = train_data[\"change\"].replace(\"Ch\", 1)\n",
    "train_data[\"change\"] = train_data[\"change\"].replace(\"No\", 0)\n",
    "train_data[\"diabetesMed\"] = train_data[\"diabetesMed\"].replace(\"Yes\", 1)\n",
    "train_data[\"diabetesMed\"] = train_data[\"diabetesMed\"].replace(\"No\", 0)\n",
    "\n",
    "train_data[\"Target\"] = train_data[\"Target\"].replace(\"Yes\", 1)\n",
    "train_data[\"Target\"] = train_data[\"Target\"].replace(\"No\", 0)\n",
    "\n",
    "for column in med_columns:\n",
    "    train_data[column] = train_data[column].replace(\"No\", 0)\n",
    "    train_data[column] = train_data[column].replace(\"Steady\", 1)\n",
    "    train_data[column] = train_data[column].replace(\"Up\", 1)\n",
    "    train_data[column] = train_data[column].replace(\"Down\", 1)\n",
    "    \n",
    "dummies = pd.get_dummies(train_data[\"race\"],prefix=\"race\")\n",
    "train_data = pd.concat([train_data,dummies],axis=1)\n",
    "\n",
    "dummies = pd.get_dummies(train_data[\"gender\"],prefix=\"gender\")\n",
    "train_data = pd.concat([train_data,dummies],axis=1)\n",
    "\n",
    "\n",
    "test_data[\"change\"] = test_data[\"change\"].replace(\"Ch\", 1)\n",
    "test_data[\"change\"] = test_data[\"change\"].replace(\"No\", 0)\n",
    "test_data[\"diabetesMed\"] = test_data[\"diabetesMed\"].replace(\"Yes\", 1)\n",
    "test_data[\"diabetesMed\"] = test_data[\"diabetesMed\"].replace(\"No\", 0)\n",
    "\n",
    "# test_data[\"Target\"] = test_data[\"Target\"].replace(\"Yes\", 1)\n",
    "# test_data[\"Target\"] = test_data[\"Target\"].replace(\"No\", 0)\n",
    "\n",
    "for column in med_columns:\n",
    "    test_data[column] = test_data[column].replace(\"No\", 0)\n",
    "    test_data[column] = test_data[column].replace(\"Steady\", 1)\n",
    "    test_data[column] = test_data[column].replace(\"Up\", 1)\n",
    "    test_data[column] = test_data[column].replace(\"Down\", 1)\n",
    "    \n",
    "dummies = pd.get_dummies(test_data[\"race\"],prefix=\"race\")\n",
    "test_data = pd.concat([test_data,dummies],axis=1)\n",
    "\n",
    "dummies = pd.get_dummies(test_data[\"gender\"],prefix=\"gender\")\n",
    "test_data = pd.concat([test_data,dummies],axis=1)"
   ]
  },
  {
   "cell_type": "code",
   "execution_count": 58,
   "metadata": {},
   "outputs": [],
   "source": [
    "admission_source_group_1 = [4,2]\n",
    "admission_source_group_2 = [6,5,9,3,20,10,8,22,14,13,25]\n",
    "admission_source_group_3 = [7]\n",
    "admission_source_group_4 = [17]\n",
    "admission_source_group_5 = [1]\n",
    "\n",
    "train_data[\"admission_source_group_1\"] = np.where(train_data[\"admission_source_id\"].isin(admission_source_group_1),1,0)\n",
    "train_data[\"admission_source_group_2\"] = np.where(train_data[\"admission_source_id\"].isin(admission_source_group_2),1,0)\n",
    "train_data[\"admission_source_group_3\"] = np.where(train_data[\"admission_source_id\"].isin(admission_source_group_3),1,0)\n",
    "train_data[\"admission_source_group_4\"] = np.where(train_data[\"admission_source_id\"].isin(admission_source_group_4),1,0)\n",
    "train_data[\"admission_source_group_5\"] = np.where(train_data[\"admission_source_id\"].isin(admission_source_group_5),1,0)\n",
    "\n",
    "test_data[\"admission_source_group_1\"] = np.where(test_data[\"admission_source_id\"].isin(admission_source_group_1),1,0)\n",
    "test_data[\"admission_source_group_2\"] = np.where(test_data[\"admission_source_id\"].isin(admission_source_group_2),1,0)\n",
    "test_data[\"admission_source_group_3\"] = np.where(test_data[\"admission_source_id\"].isin(admission_source_group_3),1,0)\n",
    "test_data[\"admission_source_group_4\"] = np.where(test_data[\"admission_source_id\"].isin(admission_source_group_4),1,0)\n",
    "test_data[\"admission_source_group_5\"] = np.where(test_data[\"admission_source_id\"].isin(admission_source_group_5),1,0)"
   ]
  },
  {
   "cell_type": "code",
   "execution_count": 59,
   "metadata": {},
   "outputs": [],
   "source": [
    "admission_type_group_1 = [1]\n",
    "admission_type_group_2 = [2]\n",
    "admission_type_group_3 = [3]\n",
    "admission_type_group_4 = [6]\n",
    "admission_type_group_5 = [4,5,7,8]\n",
    "\n",
    "train_data[\"admission_type_group_1\"] = np.where(train_data[\"admission_type_id\"].isin(admission_type_group_1),1,0)\n",
    "train_data[\"admission_type_group_2\"] = np.where(train_data[\"admission_type_id\"].isin(admission_type_group_2),1,0)\n",
    "train_data[\"admission_type_group_3\"] = np.where(train_data[\"admission_type_id\"].isin(admission_type_group_3),1,0)\n",
    "train_data[\"admission_type_group_4\"] = np.where(train_data[\"admission_type_id\"].isin(admission_type_group_4),1,0)\n",
    "train_data[\"admission_type_group_5\"] = np.where(train_data[\"admission_type_id\"].isin(admission_type_group_5),1,0)\n",
    "\n",
    "test_data[\"admission_type_group_1\"] = np.where(test_data[\"admission_type_id\"].isin(admission_type_group_1),1,0)\n",
    "test_data[\"admission_type_group_2\"] = np.where(test_data[\"admission_type_id\"].isin(admission_type_group_2),1,0)\n",
    "test_data[\"admission_type_group_3\"] = np.where(test_data[\"admission_type_id\"].isin(admission_type_group_3),1,0)\n",
    "test_data[\"admission_type_group_4\"] = np.where(test_data[\"admission_type_id\"].isin(admission_type_group_4),1,0)\n",
    "test_data[\"admission_type_group_5\"] = np.where(test_data[\"admission_type_id\"].isin(admission_type_group_5),1,0)"
   ]
  },
  {
   "cell_type": "code",
   "execution_count": 60,
   "metadata": {},
   "outputs": [
    {
     "data": {
      "text/html": [
       "<div>\n",
       "<style scoped>\n",
       "    .dataframe tbody tr th:only-of-type {\n",
       "        vertical-align: middle;\n",
       "    }\n",
       "\n",
       "    .dataframe tbody tr th {\n",
       "        vertical-align: top;\n",
       "    }\n",
       "\n",
       "    .dataframe thead th {\n",
       "        text-align: right;\n",
       "    }\n",
       "</style>\n",
       "<table border=\"1\" class=\"dataframe\">\n",
       "  <thead>\n",
       "    <tr style=\"text-align: right;\">\n",
       "      <th></th>\n",
       "      <th>patientID</th>\n",
       "      <th>num_procedures</th>\n",
       "      <th>num_medications</th>\n",
       "      <th>num_diagnoses</th>\n",
       "      <th>max_glu_serum</th>\n",
       "      <th>A1Cresult</th>\n",
       "      <th>metformin</th>\n",
       "      <th>repaglinide</th>\n",
       "      <th>nateglinide</th>\n",
       "      <th>chlorpropamide</th>\n",
       "      <th>glimepiride</th>\n",
       "      <th>glipizide</th>\n",
       "      <th>glyburide</th>\n",
       "      <th>tolbutamide</th>\n",
       "      <th>pioglitazone</th>\n",
       "      <th>rosiglitazone</th>\n",
       "      <th>acarbose</th>\n",
       "      <th>miglitol</th>\n",
       "      <th>troglitazone</th>\n",
       "      <th>tolazamide</th>\n",
       "      <th>insulin</th>\n",
       "      <th>glyburide.metformin</th>\n",
       "      <th>glipizide.metformin</th>\n",
       "      <th>metformin.pioglitazone</th>\n",
       "      <th>change</th>\n",
       "      <th>diabetesMed</th>\n",
       "      <th>admission_type_id</th>\n",
       "      <th>admission_source_id</th>\n",
       "      <th>race</th>\n",
       "      <th>gender</th>\n",
       "      <th>age</th>\n",
       "      <th>Target</th>\n",
       "      <th>admission_days</th>\n",
       "      <th>admission_month</th>\n",
       "      <th>race_type1</th>\n",
       "      <th>race_type2</th>\n",
       "      <th>race_type3</th>\n",
       "      <th>race_type4</th>\n",
       "      <th>race_type5</th>\n",
       "      <th>gender_Female</th>\n",
       "      <th>gender_Male</th>\n",
       "      <th>admission_source_group_1</th>\n",
       "      <th>admission_source_group_2</th>\n",
       "      <th>admission_source_group_3</th>\n",
       "      <th>admission_source_group_4</th>\n",
       "      <th>admission_source_group_5</th>\n",
       "      <th>admission_type_group_1</th>\n",
       "      <th>admission_type_group_2</th>\n",
       "      <th>admission_type_group_3</th>\n",
       "      <th>admission_type_group_4</th>\n",
       "      <th>admission_type_group_5</th>\n",
       "    </tr>\n",
       "  </thead>\n",
       "  <tbody>\n",
       "    <tr>\n",
       "      <th>0</th>\n",
       "      <td>PT456611</td>\n",
       "      <td>0</td>\n",
       "      <td>11</td>\n",
       "      <td>9</td>\n",
       "      <td>-1</td>\n",
       "      <td>-1</td>\n",
       "      <td>0</td>\n",
       "      <td>0</td>\n",
       "      <td>0</td>\n",
       "      <td>0</td>\n",
       "      <td>0</td>\n",
       "      <td>0</td>\n",
       "      <td>0</td>\n",
       "      <td>0</td>\n",
       "      <td>0</td>\n",
       "      <td>1</td>\n",
       "      <td>0</td>\n",
       "      <td>0</td>\n",
       "      <td>0</td>\n",
       "      <td>0</td>\n",
       "      <td>1</td>\n",
       "      <td>0</td>\n",
       "      <td>0</td>\n",
       "      <td>0</td>\n",
       "      <td>1</td>\n",
       "      <td>1</td>\n",
       "      <td>1</td>\n",
       "      <td>1</td>\n",
       "      <td>type3</td>\n",
       "      <td>Female</td>\n",
       "      <td>95.0</td>\n",
       "      <td>0</td>\n",
       "      <td>3</td>\n",
       "      <td>5</td>\n",
       "      <td>0</td>\n",
       "      <td>0</td>\n",
       "      <td>1</td>\n",
       "      <td>0</td>\n",
       "      <td>0</td>\n",
       "      <td>1</td>\n",
       "      <td>0</td>\n",
       "      <td>0</td>\n",
       "      <td>0</td>\n",
       "      <td>0</td>\n",
       "      <td>0</td>\n",
       "      <td>1</td>\n",
       "      <td>1</td>\n",
       "      <td>0</td>\n",
       "      <td>0</td>\n",
       "      <td>0</td>\n",
       "      <td>0</td>\n",
       "    </tr>\n",
       "    <tr>\n",
       "      <th>1</th>\n",
       "      <td>PT956824</td>\n",
       "      <td>1</td>\n",
       "      <td>6</td>\n",
       "      <td>6</td>\n",
       "      <td>-1</td>\n",
       "      <td>-1</td>\n",
       "      <td>0</td>\n",
       "      <td>0</td>\n",
       "      <td>0</td>\n",
       "      <td>0</td>\n",
       "      <td>0</td>\n",
       "      <td>0</td>\n",
       "      <td>0</td>\n",
       "      <td>0</td>\n",
       "      <td>0</td>\n",
       "      <td>0</td>\n",
       "      <td>0</td>\n",
       "      <td>0</td>\n",
       "      <td>0</td>\n",
       "      <td>0</td>\n",
       "      <td>0</td>\n",
       "      <td>0</td>\n",
       "      <td>0</td>\n",
       "      <td>0</td>\n",
       "      <td>0</td>\n",
       "      <td>0</td>\n",
       "      <td>1</td>\n",
       "      <td>7</td>\n",
       "      <td>type1</td>\n",
       "      <td>Male</td>\n",
       "      <td>55.0</td>\n",
       "      <td>1</td>\n",
       "      <td>3</td>\n",
       "      <td>2</td>\n",
       "      <td>1</td>\n",
       "      <td>0</td>\n",
       "      <td>0</td>\n",
       "      <td>0</td>\n",
       "      <td>0</td>\n",
       "      <td>0</td>\n",
       "      <td>1</td>\n",
       "      <td>0</td>\n",
       "      <td>0</td>\n",
       "      <td>1</td>\n",
       "      <td>0</td>\n",
       "      <td>0</td>\n",
       "      <td>1</td>\n",
       "      <td>0</td>\n",
       "      <td>0</td>\n",
       "      <td>0</td>\n",
       "      <td>0</td>\n",
       "    </tr>\n",
       "    <tr>\n",
       "      <th>2</th>\n",
       "      <td>PT453330</td>\n",
       "      <td>2</td>\n",
       "      <td>27</td>\n",
       "      <td>9</td>\n",
       "      <td>-1</td>\n",
       "      <td>-1</td>\n",
       "      <td>0</td>\n",
       "      <td>0</td>\n",
       "      <td>0</td>\n",
       "      <td>0</td>\n",
       "      <td>0</td>\n",
       "      <td>0</td>\n",
       "      <td>0</td>\n",
       "      <td>0</td>\n",
       "      <td>0</td>\n",
       "      <td>0</td>\n",
       "      <td>0</td>\n",
       "      <td>0</td>\n",
       "      <td>0</td>\n",
       "      <td>0</td>\n",
       "      <td>0</td>\n",
       "      <td>0</td>\n",
       "      <td>0</td>\n",
       "      <td>0</td>\n",
       "      <td>0</td>\n",
       "      <td>0</td>\n",
       "      <td>1</td>\n",
       "      <td>7</td>\n",
       "      <td>type3</td>\n",
       "      <td>Female</td>\n",
       "      <td>85.0</td>\n",
       "      <td>0</td>\n",
       "      <td>3</td>\n",
       "      <td>6</td>\n",
       "      <td>0</td>\n",
       "      <td>0</td>\n",
       "      <td>1</td>\n",
       "      <td>0</td>\n",
       "      <td>0</td>\n",
       "      <td>1</td>\n",
       "      <td>0</td>\n",
       "      <td>0</td>\n",
       "      <td>0</td>\n",
       "      <td>1</td>\n",
       "      <td>0</td>\n",
       "      <td>0</td>\n",
       "      <td>1</td>\n",
       "      <td>0</td>\n",
       "      <td>0</td>\n",
       "      <td>0</td>\n",
       "      <td>0</td>\n",
       "    </tr>\n",
       "    <tr>\n",
       "      <th>3</th>\n",
       "      <td>PT677563</td>\n",
       "      <td>3</td>\n",
       "      <td>10</td>\n",
       "      <td>5</td>\n",
       "      <td>-1</td>\n",
       "      <td>-1</td>\n",
       "      <td>0</td>\n",
       "      <td>0</td>\n",
       "      <td>0</td>\n",
       "      <td>0</td>\n",
       "      <td>0</td>\n",
       "      <td>0</td>\n",
       "      <td>0</td>\n",
       "      <td>0</td>\n",
       "      <td>0</td>\n",
       "      <td>0</td>\n",
       "      <td>0</td>\n",
       "      <td>0</td>\n",
       "      <td>0</td>\n",
       "      <td>0</td>\n",
       "      <td>1</td>\n",
       "      <td>0</td>\n",
       "      <td>0</td>\n",
       "      <td>0</td>\n",
       "      <td>0</td>\n",
       "      <td>1</td>\n",
       "      <td>2</td>\n",
       "      <td>1</td>\n",
       "      <td>type3</td>\n",
       "      <td>Female</td>\n",
       "      <td>55.0</td>\n",
       "      <td>0</td>\n",
       "      <td>2</td>\n",
       "      <td>12</td>\n",
       "      <td>0</td>\n",
       "      <td>0</td>\n",
       "      <td>1</td>\n",
       "      <td>0</td>\n",
       "      <td>0</td>\n",
       "      <td>1</td>\n",
       "      <td>0</td>\n",
       "      <td>0</td>\n",
       "      <td>0</td>\n",
       "      <td>0</td>\n",
       "      <td>0</td>\n",
       "      <td>1</td>\n",
       "      <td>0</td>\n",
       "      <td>1</td>\n",
       "      <td>0</td>\n",
       "      <td>0</td>\n",
       "      <td>0</td>\n",
       "    </tr>\n",
       "    <tr>\n",
       "      <th>4</th>\n",
       "      <td>PT102924</td>\n",
       "      <td>6</td>\n",
       "      <td>12</td>\n",
       "      <td>9</td>\n",
       "      <td>-1</td>\n",
       "      <td>-1</td>\n",
       "      <td>0</td>\n",
       "      <td>0</td>\n",
       "      <td>0</td>\n",
       "      <td>0</td>\n",
       "      <td>0</td>\n",
       "      <td>0</td>\n",
       "      <td>0</td>\n",
       "      <td>0</td>\n",
       "      <td>0</td>\n",
       "      <td>0</td>\n",
       "      <td>0</td>\n",
       "      <td>0</td>\n",
       "      <td>0</td>\n",
       "      <td>0</td>\n",
       "      <td>0</td>\n",
       "      <td>0</td>\n",
       "      <td>0</td>\n",
       "      <td>0</td>\n",
       "      <td>0</td>\n",
       "      <td>0</td>\n",
       "      <td>3</td>\n",
       "      <td>1</td>\n",
       "      <td>type3</td>\n",
       "      <td>Male</td>\n",
       "      <td>65.0</td>\n",
       "      <td>1</td>\n",
       "      <td>1</td>\n",
       "      <td>8</td>\n",
       "      <td>0</td>\n",
       "      <td>0</td>\n",
       "      <td>1</td>\n",
       "      <td>0</td>\n",
       "      <td>0</td>\n",
       "      <td>0</td>\n",
       "      <td>1</td>\n",
       "      <td>0</td>\n",
       "      <td>0</td>\n",
       "      <td>0</td>\n",
       "      <td>0</td>\n",
       "      <td>1</td>\n",
       "      <td>0</td>\n",
       "      <td>0</td>\n",
       "      <td>1</td>\n",
       "      <td>0</td>\n",
       "      <td>0</td>\n",
       "    </tr>\n",
       "  </tbody>\n",
       "</table>\n",
       "</div>"
      ],
      "text/plain": [
       "  patientID  num_procedures  num_medications  num_diagnoses  max_glu_serum  \\\n",
       "0  PT456611               0               11              9             -1   \n",
       "1  PT956824               1                6              6             -1   \n",
       "2  PT453330               2               27              9             -1   \n",
       "3  PT677563               3               10              5             -1   \n",
       "4  PT102924               6               12              9             -1   \n",
       "\n",
       "   A1Cresult  metformin  repaglinide  nateglinide  chlorpropamide  \\\n",
       "0         -1          0            0            0               0   \n",
       "1         -1          0            0            0               0   \n",
       "2         -1          0            0            0               0   \n",
       "3         -1          0            0            0               0   \n",
       "4         -1          0            0            0               0   \n",
       "\n",
       "   glimepiride  glipizide  glyburide  tolbutamide  pioglitazone  \\\n",
       "0            0          0          0            0             0   \n",
       "1            0          0          0            0             0   \n",
       "2            0          0          0            0             0   \n",
       "3            0          0          0            0             0   \n",
       "4            0          0          0            0             0   \n",
       "\n",
       "   rosiglitazone  acarbose  miglitol  troglitazone  tolazamide  insulin  \\\n",
       "0              1         0         0             0           0        1   \n",
       "1              0         0         0             0           0        0   \n",
       "2              0         0         0             0           0        0   \n",
       "3              0         0         0             0           0        1   \n",
       "4              0         0         0             0           0        0   \n",
       "\n",
       "   glyburide.metformin  glipizide.metformin  metformin.pioglitazone  change  \\\n",
       "0                    0                    0                       0       1   \n",
       "1                    0                    0                       0       0   \n",
       "2                    0                    0                       0       0   \n",
       "3                    0                    0                       0       0   \n",
       "4                    0                    0                       0       0   \n",
       "\n",
       "   diabetesMed  admission_type_id  admission_source_id   race  gender   age  \\\n",
       "0            1                  1                    1  type3  Female  95.0   \n",
       "1            0                  1                    7  type1    Male  55.0   \n",
       "2            0                  1                    7  type3  Female  85.0   \n",
       "3            1                  2                    1  type3  Female  55.0   \n",
       "4            0                  3                    1  type3    Male  65.0   \n",
       "\n",
       "   Target  admission_days  admission_month  race_type1  race_type2  \\\n",
       "0       0               3                5           0           0   \n",
       "1       1               3                2           1           0   \n",
       "2       0               3                6           0           0   \n",
       "3       0               2               12           0           0   \n",
       "4       1               1                8           0           0   \n",
       "\n",
       "   race_type3  race_type4  race_type5  gender_Female  gender_Male  \\\n",
       "0           1           0           0              1            0   \n",
       "1           0           0           0              0            1   \n",
       "2           1           0           0              1            0   \n",
       "3           1           0           0              1            0   \n",
       "4           1           0           0              0            1   \n",
       "\n",
       "   admission_source_group_1  admission_source_group_2  \\\n",
       "0                         0                         0   \n",
       "1                         0                         0   \n",
       "2                         0                         0   \n",
       "3                         0                         0   \n",
       "4                         0                         0   \n",
       "\n",
       "   admission_source_group_3  admission_source_group_4  \\\n",
       "0                         0                         0   \n",
       "1                         1                         0   \n",
       "2                         1                         0   \n",
       "3                         0                         0   \n",
       "4                         0                         0   \n",
       "\n",
       "   admission_source_group_5  admission_type_group_1  admission_type_group_2  \\\n",
       "0                         1                       1                       0   \n",
       "1                         0                       1                       0   \n",
       "2                         0                       1                       0   \n",
       "3                         1                       0                       1   \n",
       "4                         1                       0                       0   \n",
       "\n",
       "   admission_type_group_3  admission_type_group_4  admission_type_group_5  \n",
       "0                       0                       0                       0  \n",
       "1                       0                       0                       0  \n",
       "2                       0                       0                       0  \n",
       "3                       0                       0                       0  \n",
       "4                       1                       0                       0  "
      ]
     },
     "execution_count": 60,
     "metadata": {},
     "output_type": "execute_result"
    }
   ],
   "source": [
    "train_data.head()"
   ]
  },
  {
   "cell_type": "code",
   "execution_count": 61,
   "metadata": {},
   "outputs": [],
   "source": [
    "train_data = train_data.drop([\"admission_type_id\",\"admission_source_id\",\"race\",\"gender\"],axis=1)\n",
    "test_data = test_data.drop([\"admission_type_id\",\"admission_source_id\",\"race\",\"gender\"],axis=1)"
   ]
  },
  {
   "cell_type": "code",
   "execution_count": 62,
   "metadata": {},
   "outputs": [
    {
     "data": {
      "text/plain": [
       "Index(['patientID', 'num_procedures', 'num_medications', 'num_diagnoses',\n",
       "       'max_glu_serum', 'A1Cresult', 'metformin', 'repaglinide', 'nateglinide',\n",
       "       'chlorpropamide', 'glimepiride', 'glipizide', 'glyburide',\n",
       "       'tolbutamide', 'pioglitazone', 'rosiglitazone', 'acarbose', 'miglitol',\n",
       "       'troglitazone', 'tolazamide', 'insulin', 'glyburide.metformin',\n",
       "       'glipizide.metformin', 'metformin.pioglitazone', 'change',\n",
       "       'diabetesMed', 'age', 'Target', 'admission_days', 'admission_month',\n",
       "       'race_type1', 'race_type2', 'race_type3', 'race_type4', 'race_type5',\n",
       "       'gender_Female', 'gender_Male', 'admission_source_group_1',\n",
       "       'admission_source_group_2', 'admission_source_group_3',\n",
       "       'admission_source_group_4', 'admission_source_group_5',\n",
       "       'admission_type_group_1', 'admission_type_group_2',\n",
       "       'admission_type_group_3', 'admission_type_group_4',\n",
       "       'admission_type_group_5'],\n",
       "      dtype='object')"
      ]
     },
     "execution_count": 62,
     "metadata": {},
     "output_type": "execute_result"
    }
   ],
   "source": [
    "train_data.columns"
   ]
  },
  {
   "cell_type": "code",
   "execution_count": 63,
   "metadata": {
    "scrolled": true
   },
   "outputs": [],
   "source": [
    "features = ['num_procedures', 'num_medications', 'num_diagnoses',\n",
    "       'max_glu_serum', 'A1Cresult', 'metformin', 'repaglinide', 'nateglinide',\n",
    "       'chlorpropamide', 'glimepiride', 'glipizide', 'glyburide',\n",
    "       'tolbutamide', 'pioglitazone', 'rosiglitazone', 'acarbose', 'miglitol',\n",
    "       'troglitazone', 'tolazamide', 'insulin', 'glyburide.metformin',\n",
    "       'glipizide.metformin', 'metformin.pioglitazone', 'change',\n",
    "       'diabetesMed', 'age', 'admission_days', 'admission_month',\n",
    "       'race_type1', 'race_type2', 'race_type3', 'race_type4', 'race_type5',\n",
    "       'gender_Female', 'gender_Male', 'admission_source_group_1',\n",
    "       'admission_source_group_2', 'admission_source_group_3',\n",
    "       'admission_source_group_4', 'admission_source_group_5',\n",
    "       'admission_type_group_1', 'admission_type_group_2',\n",
    "       'admission_type_group_3', 'admission_type_group_4',\n",
    "       'admission_type_group_5']\n",
    "\n",
    "target = ['Target']"
   ]
  },
  {
   "cell_type": "markdown",
   "metadata": {},
   "source": [
    "## Model building "
   ]
  },
  {
   "cell_type": "markdown",
   "metadata": {},
   "source": [
    "#### Logistic Regression "
   ]
  },
  {
   "cell_type": "code",
   "execution_count": 64,
   "metadata": {},
   "outputs": [
    {
     "name": "stderr",
     "output_type": "stream",
     "text": [
      "C:\\Users\\mounika.rudra\\AppData\\Local\\Continuum\\anaconda3\\lib\\site-packages\\sklearn\\linear_model\\logistic.py:432: FutureWarning: Default solver will be changed to 'lbfgs' in 0.22. Specify a solver to silence this warning.\n",
      "  FutureWarning)\n",
      "C:\\Users\\mounika.rudra\\AppData\\Local\\Continuum\\anaconda3\\lib\\site-packages\\sklearn\\utils\\validation.py:724: DataConversionWarning: A column-vector y was passed when a 1d array was expected. Please change the shape of y to (n_samples, ), for example using ravel().\n",
      "  y = column_or_1d(y, warn=True)\n"
     ]
    },
    {
     "data": {
      "text/plain": [
       "LogisticRegression(C=1.0, class_weight=None, dual=False, fit_intercept=True,\n",
       "                   intercept_scaling=1, l1_ratio=None, max_iter=100,\n",
       "                   multi_class='warn', n_jobs=None, penalty='l1',\n",
       "                   random_state=None, solver='warn', tol=0.0001, verbose=0,\n",
       "                   warm_start=False)"
      ]
     },
     "execution_count": 64,
     "metadata": {},
     "output_type": "execute_result"
    }
   ],
   "source": [
    "X_train, X_test, Y_train, Y_test = train_test_split(train_data[features],train_data[target],test_size=0.3)\n",
    "logit = LogisticRegression(fit_intercept=True, penalty='l1')\n",
    "logit.fit(X_train, Y_train)"
   ]
  },
  {
   "cell_type": "code",
   "execution_count": 65,
   "metadata": {},
   "outputs": [
    {
     "name": "stdout",
     "output_type": "stream",
     "text": [
      "Accuracy is 0.73\n",
      "Precision is 0.00\n",
      "Recall is 0.00\n"
     ]
    },
    {
     "name": "stderr",
     "output_type": "stream",
     "text": [
      "C:\\Users\\mounika.rudra\\AppData\\Local\\Continuum\\anaconda3\\lib\\site-packages\\sklearn\\metrics\\classification.py:1437: UndefinedMetricWarning: Precision is ill-defined and being set to 0.0 due to no predicted samples.\n",
      "  'precision', 'predicted', average, warn_for)\n"
     ]
    }
   ],
   "source": [
    "logit_pred = logit.predict(X_train)\n",
    "\n",
    "print(\"Accuracy is {0:.2f}\".format(accuracy_score(Y_train, logit_pred)))\n",
    "print(\"Precision is {0:.2f}\".format(precision_score(Y_train, logit_pred)))\n",
    "print(\"Recall is {0:.2f}\".format(recall_score(Y_train, logit_pred)))"
   ]
  },
  {
   "cell_type": "code",
   "execution_count": 66,
   "metadata": {},
   "outputs": [
    {
     "name": "stdout",
     "output_type": "stream",
     "text": [
      "Accuracy is 0.74\n",
      "Precision is 0.00\n",
      "Recall is 0.00\n"
     ]
    },
    {
     "name": "stderr",
     "output_type": "stream",
     "text": [
      "C:\\Users\\mounika.rudra\\AppData\\Local\\Continuum\\anaconda3\\lib\\site-packages\\sklearn\\metrics\\classification.py:1437: UndefinedMetricWarning: Precision is ill-defined and being set to 0.0 due to no predicted samples.\n",
      "  'precision', 'predicted', average, warn_for)\n"
     ]
    }
   ],
   "source": [
    "logit_pred = logit.predict(X_test)\n",
    "\n",
    "print(\"Accuracy is {0:.2f}\".format(accuracy_score(Y_test, logit_pred)))\n",
    "print(\"Precision is {0:.2f}\".format(precision_score(Y_test, logit_pred)))\n",
    "print(\"Recall is {0:.2f}\".format(recall_score(Y_test, logit_pred)))"
   ]
  },
  {
   "cell_type": "markdown",
   "metadata": {},
   "source": [
    "#### Handling imbalanced data"
   ]
  },
  {
   "cell_type": "code",
   "execution_count": 67,
   "metadata": {
    "scrolled": true
   },
   "outputs": [
    {
     "name": "stdout",
     "output_type": "stream",
     "text": [
      "Original dataset shape Counter({'Target': 1})\n"
     ]
    },
    {
     "name": "stderr",
     "output_type": "stream",
     "text": [
      "C:\\Users\\mounika.rudra\\AppData\\Local\\Continuum\\anaconda3\\lib\\site-packages\\sklearn\\utils\\validation.py:724: DataConversionWarning: A column-vector y was passed when a 1d array was expected. Please change the shape of y to (n_samples, ), for example using ravel().\n",
      "  y = column_or_1d(y, warn=True)\n"
     ]
    },
    {
     "name": "stdout",
     "output_type": "stream",
     "text": [
      "New dataset shape Counter({0: 17786, 1: 17786})\n"
     ]
    }
   ],
   "source": [
    "print('Original dataset shape {}'.format(Counter(Y_train)))\n",
    "sm = SMOTE(random_state=20)\n",
    "#train_input_new, train_output_new = sm.fit_sample(X_train,Y_train)\n",
    "train_input_new, train_output_new = sm.fit_sample(train_data[features],train_data[target])\n",
    "print('New dataset shape {}'.format(Counter(train_output_new)))\n",
    "X_train, X_test, Y_train, Y_test = train_test_split(train_input_new, train_output_new, test_size=0.20, random_state=0)"
   ]
  },
  {
   "cell_type": "code",
   "execution_count": 68,
   "metadata": {},
   "outputs": [],
   "source": [
    "def evaluate(Y_test,Y_pred):\n",
    "    print(\"Accuracy is {0:.2f}\".format(accuracy_score(Y_test, Y_pred)))\n",
    "    print(\"Precision is {0:.2f}\".format(precision_score(Y_test, Y_pred)))\n",
    "    print(\"Recall is {0:.2f}\".format(recall_score(Y_test, Y_pred)))\n",
    "    print(\"F1 score is {0:.2f}\".format(f1_score(Y_test, Y_pred)))"
   ]
  },
  {
   "cell_type": "markdown",
   "metadata": {},
   "source": [
    "#### K-NN"
   ]
  },
  {
   "cell_type": "code",
   "execution_count": 69,
   "metadata": {},
   "outputs": [
    {
     "data": {
      "text/plain": [
       "MinMaxScaler(copy=True, feature_range=(0, 1))"
      ]
     },
     "execution_count": 69,
     "metadata": {},
     "output_type": "execute_result"
    }
   ],
   "source": [
    "scaler = MinMaxScaler()\n",
    "scaler.fit(X_train)"
   ]
  },
  {
   "cell_type": "code",
   "execution_count": 70,
   "metadata": {},
   "outputs": [],
   "source": [
    "knn = KNeighborsClassifier(n_neighbors=5, weights=\"uniform\")#metric='euclidean',\n",
    "knn.fit(X_train, Y_train)\n",
    "y_pred = knn.predict(X_test)"
   ]
  },
  {
   "cell_type": "code",
   "execution_count": 71,
   "metadata": {},
   "outputs": [
    {
     "data": {
      "text/plain": [
       "array([[1718, 1856],\n",
       "       [ 438, 3103]], dtype=int64)"
      ]
     },
     "execution_count": 71,
     "metadata": {},
     "output_type": "execute_result"
    }
   ],
   "source": [
    "confusion_matrix(Y_test, y_pred)"
   ]
  },
  {
   "cell_type": "code",
   "execution_count": 72,
   "metadata": {
    "scrolled": true
   },
   "outputs": [
    {
     "name": "stdout",
     "output_type": "stream",
     "text": [
      "Accuracy is 0.68\n",
      "Precision is 0.63\n",
      "Recall is 0.88\n",
      "F1 score is 0.73\n"
     ]
    }
   ],
   "source": [
    "knn = KNeighborsClassifier(n_neighbors=5, metric='euclidean',weights=\"uniform\")\n",
    "knn.fit(X_train, Y_train)\n",
    "y_pred = knn.predict(X_test)\n",
    "evaluate(Y_test,y_pred) #metric='euclidean',weights=\"uniform\""
   ]
  },
  {
   "cell_type": "code",
   "execution_count": 73,
   "metadata": {
    "scrolled": true
   },
   "outputs": [
    {
     "name": "stdout",
     "output_type": "stream",
     "text": [
      "Accuracy is 0.68\n",
      "Precision is 0.63\n",
      "Recall is 0.88\n",
      "F1 score is 0.73\n"
     ]
    }
   ],
   "source": [
    "knn = KNeighborsClassifier(n_neighbors=5, weights=\"uniform\")\n",
    "knn.fit(X_train, Y_train)\n",
    "y_pred = knn.predict(X_test)\n",
    "evaluate(Y_test,y_pred)"
   ]
  },
  {
   "cell_type": "code",
   "execution_count": 74,
   "metadata": {},
   "outputs": [
    {
     "name": "stdout",
     "output_type": "stream",
     "text": [
      "Accuracy is 0.71\n",
      "Precision is 0.64\n",
      "Recall is 0.93\n",
      "F1 score is 0.76\n"
     ]
    }
   ],
   "source": [
    "knn = KNeighborsClassifier(n_neighbors=5, weights=\"distance\")#metric='euclidean',\n",
    "knn.fit(X_train, Y_train)\n",
    "y_pred = knn.predict(X_test)\n",
    "evaluate(Y_test,y_pred) #metric='euclidean',weights=\"distance\""
   ]
  },
  {
   "cell_type": "code",
   "execution_count": 75,
   "metadata": {},
   "outputs": [],
   "source": [
    "y_pred_test = knn.predict(test_data[features])"
   ]
  },
  {
   "cell_type": "code",
   "execution_count": 76,
   "metadata": {},
   "outputs": [],
   "source": [
    "def label_encode(df):\n",
    "    if df.Target == \"No\":\n",
    "        return 0\n",
    "    else:\n",
    "        return 1\n",
    "\n",
    "y_test = test_data[target].apply(label_encode, axis=1)"
   ]
  },
  {
   "cell_type": "code",
   "execution_count": 77,
   "metadata": {},
   "outputs": [
    {
     "name": "stdout",
     "output_type": "stream",
     "text": [
      "Accuracy is 0.34\n",
      "Precision is 1.00\n",
      "Recall is 0.34\n",
      "F1 score is 0.50\n"
     ]
    }
   ],
   "source": [
    "evaluate(y_test,y_pred_test)"
   ]
  },
  {
   "cell_type": "markdown",
   "metadata": {},
   "source": [
    "#### Decision tree"
   ]
  },
  {
   "cell_type": "code",
   "execution_count": 78,
   "metadata": {},
   "outputs": [
    {
     "data": {
      "text/plain": [
       "DecisionTreeClassifier(class_weight=None, criterion='entropy', max_depth=28,\n",
       "                       max_features=None, max_leaf_nodes=None,\n",
       "                       min_impurity_decrease=0.0, min_impurity_split=None,\n",
       "                       min_samples_leaf=1, min_samples_split=10,\n",
       "                       min_weight_fraction_leaf=0.0, presort=False,\n",
       "                       random_state=None, splitter='best')"
      ]
     },
     "execution_count": 78,
     "metadata": {},
     "output_type": "execute_result"
    }
   ],
   "source": [
    "from sklearn.tree import DecisionTreeClassifier\n",
    "dtree = DecisionTreeClassifier(max_depth=28, criterion = \"entropy\", min_samples_split=10)\n",
    "dtree.fit(X_train, Y_train)"
   ]
  },
  {
   "cell_type": "code",
   "execution_count": 79,
   "metadata": {
    "scrolled": true
   },
   "outputs": [
    {
     "name": "stdout",
     "output_type": "stream",
     "text": [
      "Accuracy is 0.73\n",
      "Precision is 0.74\n",
      "Recall is 0.72\n"
     ]
    }
   ],
   "source": [
    "dtree_pred = dtree.predict(X_test)\n",
    "print(\"Accuracy is {0:.2f}\".format(accuracy_score(Y_test, dtree_pred)))\n",
    "print(\"Precision is {0:.2f}\".format(precision_score(Y_test, dtree_pred)))\n",
    "print(\"Recall is {0:.2f}\".format(recall_score(Y_test, dtree_pred)))"
   ]
  },
  {
   "cell_type": "code",
   "execution_count": 80,
   "metadata": {},
   "outputs": [
    {
     "name": "stdout",
     "output_type": "stream",
     "text": [
      "Accuracy is 0.24\n",
      "Precision is 1.00\n",
      "Recall is 0.24\n",
      "F1 score is 0.39\n"
     ]
    }
   ],
   "source": [
    "dtree_pred = dtree.predict(test_data[features])\n",
    "evaluate(y_test,dtree_pred)"
   ]
  },
  {
   "cell_type": "markdown",
   "metadata": {},
   "source": [
    "#### Random Forest"
   ]
  },
  {
   "cell_type": "code",
   "execution_count": 81,
   "metadata": {
    "scrolled": true
   },
   "outputs": [
    {
     "name": "stdout",
     "output_type": "stream",
     "text": [
      "Accuracy is 0.82\n",
      "Precision is 0.98\n",
      "Recall is 0.65\n"
     ]
    }
   ],
   "source": [
    "from sklearn.ensemble import RandomForestClassifier\n",
    "\n",
    "rm = RandomForestClassifier(n_estimators = 100, max_depth=26, criterion = \"entropy\", min_samples_split=10)\n",
    "rm.fit(X_train, Y_train)\n",
    "rm_prd = rm.predict(X_test)\n",
    "\n",
    "print(\"Accuracy is {0:.2f}\".format(accuracy_score(Y_test, rm_prd)))\n",
    "print(\"Precision is {0:.2f}\".format(precision_score(Y_test, rm_prd)))\n",
    "print(\"Recall is {0:.2f}\".format(recall_score(Y_test, rm_prd)))"
   ]
  },
  {
   "cell_type": "code",
   "execution_count": 82,
   "metadata": {
    "scrolled": true
   },
   "outputs": [
    {
     "data": {
      "text/html": [
       "<div>\n",
       "<style scoped>\n",
       "    .dataframe tbody tr th:only-of-type {\n",
       "        vertical-align: middle;\n",
       "    }\n",
       "\n",
       "    .dataframe tbody tr th {\n",
       "        vertical-align: top;\n",
       "    }\n",
       "\n",
       "    .dataframe thead th {\n",
       "        text-align: right;\n",
       "    }\n",
       "</style>\n",
       "<table border=\"1\" class=\"dataframe\">\n",
       "  <thead>\n",
       "    <tr style=\"text-align: right;\">\n",
       "      <th>Predict</th>\n",
       "      <th>0</th>\n",
       "      <th>1</th>\n",
       "      <th>All</th>\n",
       "    </tr>\n",
       "    <tr>\n",
       "      <th>Actual</th>\n",
       "      <th></th>\n",
       "      <th></th>\n",
       "      <th></th>\n",
       "    </tr>\n",
       "  </thead>\n",
       "  <tbody>\n",
       "    <tr>\n",
       "      <th>0</th>\n",
       "      <td>3539</td>\n",
       "      <td>35</td>\n",
       "      <td>3574</td>\n",
       "    </tr>\n",
       "    <tr>\n",
       "      <th>1</th>\n",
       "      <td>1253</td>\n",
       "      <td>2288</td>\n",
       "      <td>3541</td>\n",
       "    </tr>\n",
       "    <tr>\n",
       "      <th>All</th>\n",
       "      <td>4792</td>\n",
       "      <td>2323</td>\n",
       "      <td>7115</td>\n",
       "    </tr>\n",
       "  </tbody>\n",
       "</table>\n",
       "</div>"
      ],
      "text/plain": [
       "Predict     0     1   All\n",
       "Actual                   \n",
       "0        3539    35  3574\n",
       "1        1253  2288  3541\n",
       "All      4792  2323  7115"
      ]
     },
     "execution_count": 82,
     "metadata": {},
     "output_type": "execute_result"
    }
   ],
   "source": [
    "pd.crosstab(pd.Series(Y_test, name = 'Actual'), pd.Series(rm_prd, name = 'Predict'), margins = True)"
   ]
  },
  {
   "cell_type": "code",
   "execution_count": 83,
   "metadata": {},
   "outputs": [
    {
     "name": "stdout",
     "output_type": "stream",
     "text": [
      "Accuracy is 0.08\n",
      "Precision is 1.00\n",
      "Recall is 0.08\n",
      "F1 score is 0.14\n"
     ]
    }
   ],
   "source": [
    "rm_pred = rm.predict(test_data[features])\n",
    "evaluate(y_test,rm_pred)"
   ]
  },
  {
   "cell_type": "code",
   "execution_count": 84,
   "metadata": {},
   "outputs": [
    {
     "data": {
      "text/html": [
       "<div>\n",
       "<style scoped>\n",
       "    .dataframe tbody tr th:only-of-type {\n",
       "        vertical-align: middle;\n",
       "    }\n",
       "\n",
       "    .dataframe tbody tr th {\n",
       "        vertical-align: top;\n",
       "    }\n",
       "\n",
       "    .dataframe thead th {\n",
       "        text-align: right;\n",
       "    }\n",
       "</style>\n",
       "<table border=\"1\" class=\"dataframe\">\n",
       "  <thead>\n",
       "    <tr style=\"text-align: right;\">\n",
       "      <th>Predict</th>\n",
       "      <th>0</th>\n",
       "      <th>1</th>\n",
       "      <th>All</th>\n",
       "    </tr>\n",
       "    <tr>\n",
       "      <th>Actual</th>\n",
       "      <th></th>\n",
       "      <th></th>\n",
       "      <th></th>\n",
       "    </tr>\n",
       "  </thead>\n",
       "  <tbody>\n",
       "    <tr>\n",
       "      <th>1</th>\n",
       "      <td>6696</td>\n",
       "      <td>561</td>\n",
       "      <td>7257</td>\n",
       "    </tr>\n",
       "    <tr>\n",
       "      <th>All</th>\n",
       "      <td>6696</td>\n",
       "      <td>561</td>\n",
       "      <td>7257</td>\n",
       "    </tr>\n",
       "  </tbody>\n",
       "</table>\n",
       "</div>"
      ],
      "text/plain": [
       "Predict     0    1   All\n",
       "Actual                  \n",
       "1        6696  561  7257\n",
       "All      6696  561  7257"
      ]
     },
     "execution_count": 84,
     "metadata": {},
     "output_type": "execute_result"
    }
   ],
   "source": [
    "pd.crosstab(pd.Series(y_test, name = 'Actual'), pd.Series(rm_pred, name = 'Predict'), margins = True)"
   ]
  },
  {
   "cell_type": "markdown",
   "metadata": {},
   "source": [
    "#### Importanf Features from Random Forest "
   ]
  },
  {
   "cell_type": "code",
   "execution_count": 85,
   "metadata": {
    "scrolled": false
   },
   "outputs": [
    {
     "data": {
      "image/png": "[encoded data removed]",
      "text/plain": [
       "<Figure size 720x432 with 1 Axes>"
      ]
     },
     "metadata": {
      "needs_background": "light"
     },
     "output_type": "display_data"
    }
   ],
   "source": [
    "feature_names = features\n",
    "feature_imports = rm.feature_importances_\n",
    "most_imp_features = pd.DataFrame([f for f in zip(feature_names,feature_imports)], columns=[\"Feature\", \"Importance\"]).nlargest(10, \"Importance\")\n",
    "most_imp_features.sort_values(by=\"Importance\", inplace=True)\n",
    "plt.figure(figsize=(10,6))\n",
    "plt.barh(range(len(most_imp_features)), most_imp_features.Importance, align='center', alpha=0.8)\n",
    "plt.yticks(range(len(most_imp_features)), most_imp_features.Feature, fontsize=14)\n",
    "plt.xlabel('Importance')\n",
    "plt.title('Most important features - Random Forest ')\n",
    "plt.show()"
   ]
  },
  {
   "cell_type": "markdown",
   "metadata": {},
   "source": [
    "#### Gradient Boosting"
   ]
  },
  {
   "cell_type": "code",
   "execution_count": 86,
   "metadata": {
    "scrolled": false
   },
   "outputs": [
    {
     "name": "stdout",
     "output_type": "stream",
     "text": [
      "Accuracy is 0.82\n",
      "Precision is 1.00\n",
      "Recall is 0.65\n"
     ]
    }
   ],
   "source": [
    "from sklearn.ensemble import GradientBoostingClassifier\n",
    "from sklearn.svm import SVC\n",
    "\n",
    "#svc=SVC(probability=True, kernel='linear',cache_size=9000)\n",
    "\n",
    "#clf = AdaBoostClassifier(n_estimators=100,base_estimator=svc)\n",
    "# for i in range(1,10):\n",
    "clf = GradientBoostingClassifier(loss=\"exponential\",n_estimators=100,max_depth=6)\n",
    "clf.fit(X_train, Y_train)\n",
    "Y_pred = clf.predict(X_test)\n",
    "\n",
    "print(\"Accuracy is {0:.2f}\".format(accuracy_score(Y_test, Y_pred)))\n",
    "print(\"Precision is {0:.2f}\".format(precision_score(Y_test, Y_pred)))\n",
    "print(\"Recall is {0:.2f}\".format(recall_score(Y_test, Y_pred)))\n"
   ]
  },
  {
   "cell_type": "code",
   "execution_count": 87,
   "metadata": {},
   "outputs": [
    {
     "data": {
      "text/plain": [
       "numpy.ndarray"
      ]
     },
     "execution_count": 87,
     "metadata": {},
     "output_type": "execute_result"
    }
   ],
   "source": [
    "type(X_test)"
   ]
  },
  {
   "cell_type": "code",
   "execution_count": 88,
   "metadata": {
    "scrolled": true
   },
   "outputs": [
    {
     "data": {
      "text/html": [
       "<div>\n",
       "<style scoped>\n",
       "    .dataframe tbody tr th:only-of-type {\n",
       "        vertical-align: middle;\n",
       "    }\n",
       "\n",
       "    .dataframe tbody tr th {\n",
       "        vertical-align: top;\n",
       "    }\n",
       "\n",
       "    .dataframe thead th {\n",
       "        text-align: right;\n",
       "    }\n",
       "</style>\n",
       "<table border=\"1\" class=\"dataframe\">\n",
       "  <thead>\n",
       "    <tr style=\"text-align: right;\">\n",
       "      <th>Predict</th>\n",
       "      <th>0</th>\n",
       "      <th>1</th>\n",
       "      <th>All</th>\n",
       "    </tr>\n",
       "    <tr>\n",
       "      <th>Actual</th>\n",
       "      <th></th>\n",
       "      <th></th>\n",
       "      <th></th>\n",
       "    </tr>\n",
       "  </thead>\n",
       "  <tbody>\n",
       "    <tr>\n",
       "      <th>0</th>\n",
       "      <td>3566</td>\n",
       "      <td>8</td>\n",
       "      <td>3574</td>\n",
       "    </tr>\n",
       "    <tr>\n",
       "      <th>1</th>\n",
       "      <td>1253</td>\n",
       "      <td>2288</td>\n",
       "      <td>3541</td>\n",
       "    </tr>\n",
       "    <tr>\n",
       "      <th>All</th>\n",
       "      <td>4819</td>\n",
       "      <td>2296</td>\n",
       "      <td>7115</td>\n",
       "    </tr>\n",
       "  </tbody>\n",
       "</table>\n",
       "</div>"
      ],
      "text/plain": [
       "Predict     0     1   All\n",
       "Actual                   \n",
       "0        3566     8  3574\n",
       "1        1253  2288  3541\n",
       "All      4819  2296  7115"
      ]
     },
     "execution_count": 88,
     "metadata": {},
     "output_type": "execute_result"
    }
   ],
   "source": [
    "pd.crosstab(pd.Series(Y_test, name = 'Actual'), pd.Series(Y_pred, name = 'Predict'), margins = True)"
   ]
  },
  {
   "cell_type": "markdown",
   "metadata": {},
   "source": [
    "#### Cross Validation"
   ]
  },
  {
   "cell_type": "code",
   "execution_count": 89,
   "metadata": {},
   "outputs": [
    {
     "data": {
      "text/plain": [
       "array([0.81039326, 0.84399157, 0.80955727, 0.78636683, 0.80942335])"
      ]
     },
     "execution_count": 89,
     "metadata": {},
     "output_type": "execute_result"
    }
   ],
   "source": [
    "from sklearn.model_selection import cross_val_score\n",
    "\n",
    "scores = cross_val_score(clf, X_test, Y_test, cv=5)\n",
    "scores"
   ]
  },
  {
   "cell_type": "markdown",
   "metadata": {},
   "source": [
    "#### Prediction of values on test_data "
   ]
  },
  {
   "cell_type": "code",
   "execution_count": 90,
   "metadata": {},
   "outputs": [],
   "source": [
    "Y_pred = clf.predict(test_data[features].values)"
   ]
  },
  {
   "cell_type": "code",
   "execution_count": 91,
   "metadata": {
    "scrolled": true
   },
   "outputs": [
    {
     "data": {
      "text/html": [
       "<div>\n",
       "<style scoped>\n",
       "    .dataframe tbody tr th:only-of-type {\n",
       "        vertical-align: middle;\n",
       "    }\n",
       "\n",
       "    .dataframe tbody tr th {\n",
       "        vertical-align: top;\n",
       "    }\n",
       "\n",
       "    .dataframe thead th {\n",
       "        text-align: right;\n",
       "    }\n",
       "</style>\n",
       "<table border=\"1\" class=\"dataframe\">\n",
       "  <thead>\n",
       "    <tr style=\"text-align: right;\">\n",
       "      <th></th>\n",
       "      <th>patientID</th>\n",
       "      <th>Target</th>\n",
       "    </tr>\n",
       "  </thead>\n",
       "  <tbody>\n",
       "    <tr>\n",
       "      <th>0</th>\n",
       "      <td>PT456611</td>\n",
       "      <td>No</td>\n",
       "    </tr>\n",
       "    <tr>\n",
       "      <th>1</th>\n",
       "      <td>PT956824</td>\n",
       "      <td>No</td>\n",
       "    </tr>\n",
       "    <tr>\n",
       "      <th>2</th>\n",
       "      <td>PT453330</td>\n",
       "      <td>No</td>\n",
       "    </tr>\n",
       "    <tr>\n",
       "      <th>3</th>\n",
       "      <td>PT677563</td>\n",
       "      <td>No</td>\n",
       "    </tr>\n",
       "    <tr>\n",
       "      <th>4</th>\n",
       "      <td>PT102924</td>\n",
       "      <td>No</td>\n",
       "    </tr>\n",
       "  </tbody>\n",
       "</table>\n",
       "</div>"
      ],
      "text/plain": [
       "  patientID Target\n",
       "0  PT456611     No\n",
       "1  PT956824     No\n",
       "2  PT453330     No\n",
       "3  PT677563     No\n",
       "4  PT102924     No"
      ]
     },
     "execution_count": 91,
     "metadata": {},
     "output_type": "execute_result"
    }
   ],
   "source": [
    "test_data[\"Target\"] = pd.Series(Y_pred)\n",
    "test_data[\"Target\"] = test_data[\"Target\"].replace(1,\"Yes\")\n",
    "test_data[\"Target\"] = test_data[\"Target\"].replace(0,\"No\")\n",
    "final_data = test_data[[\"patientID\",\"Target\"]]\n",
    "final_data.head()"
   ]
  }
 ],
 "metadata": {
  "kernelspec": {
   "display_name": "Python 3",
   "language": "python",
   "name": "python3"
  },
  "language_info": {
   "codemirror_mode": {
    "name": "ipython",
    "version": 3
   },
   "file_extension": ".py",
   "mimetype": "text/x-python",
   "name": "python",
   "nbconvert_exporter": "python",
   "pygments_lexer": "ipython3",
   "version": "3.7.3"
  }
 },
 "nbformat": 4,
 "nbformat_minor": 2
}
